{
 "cells": [
  {
   "cell_type": "code",
   "execution_count": 25,
   "id": "b69e57bb-fd78-4ff7-b308-338b46288a51",
   "metadata": {},
   "outputs": [],
   "source": [
    "import torch\n",
    "from torch import nn\n",
    "import torchvision\n",
    "import torchvision.transforms as transforms\n",
    "import numpy as np\n",
    "from tqdm import tqdm\n",
    "import os\n",
    "import pickle\n",
    "import statistics"
   ]
  },
  {
   "cell_type": "code",
   "execution_count": 26,
   "id": "7b69a4de-e7f9-405f-ac97-f8c003694611",
   "metadata": {},
   "outputs": [
    {
     "data": {
      "text/plain": [
       "'cuda'"
      ]
     },
     "execution_count": 26,
     "metadata": {},
     "output_type": "execute_result"
    }
   ],
   "source": [
    "device = \"cuda\" if torch.cuda.is_available() else \"cpu\"\n",
    "device"
   ]
  },
  {
   "cell_type": "code",
   "execution_count": 27,
   "id": "f8f3c747-d2ca-45b1-9613-0eae7f23a2b0",
   "metadata": {},
   "outputs": [
    {
     "data": {
      "text/plain": [
       "0"
      ]
     },
     "execution_count": 27,
     "metadata": {},
     "output_type": "execute_result"
    }
   ],
   "source": [
    "torch.cuda.current_device()"
   ]
  },
  {
   "cell_type": "markdown",
   "id": "f769572f-17e1-4e69-b0b9-2ae0674c089c",
   "metadata": {},
   "source": [
    "# prepare for dataset"
   ]
  },
  {
   "cell_type": "code",
   "execution_count": 28,
   "id": "9e3b2123-ad76-467e-9f73-f279e3149ce1",
   "metadata": {},
   "outputs": [
    {
     "name": "stdout",
     "output_type": "stream",
     "text": [
      "Files already downloaded and verified\n"
     ]
    }
   ],
   "source": [
    "transform = transforms.Compose(\n",
    "    [transforms.ToTensor(),\n",
    "    transforms.Normalize((0.5, 0.5, 0.5), (0.5, 0.5, 0.5))]\n",
    ")\n",
    "\n",
    "trainset = torchvision.datasets.CIFAR10(root=\"../data/CIFAR10\",\n",
    "                                            train=True, download=True,\n",
    "                                            transform=transform)\n",
    "train_loader = torch.utils.data.DataLoader(trainset, batch_size=512,\n",
    "                                               shuffle=True, num_workers=4, pin_memory=True)"
   ]
  },
  {
   "cell_type": "markdown",
   "id": "808a9229-b645-4161-9b8f-c8b71473bb39",
   "metadata": {},
   "source": [
    "# model"
   ]
  },
  {
   "cell_type": "markdown",
   "id": "00c7e639-8390-46ba-b98b-917ad59ef42f",
   "metadata": {},
   "source": [
    "## generator\n"
   ]
  },
  {
   "cell_type": "code",
   "execution_count": 29,
   "id": "f41cb59a-1446-401f-85fd-0dfe96c0e87f",
   "metadata": {},
   "outputs": [],
   "source": [
    "class Generator(nn.Module):\n",
    "    def __init__(self):\n",
    "        super().__init__()\n",
    "        self.main = nn.Sequential(\n",
    "            nn.ConvTranspose2d(128, 256, 4, 1, 0), # 4x4\n",
    "            nn.BatchNorm2d(256),\n",
    "            nn.ReLU(inplace=True),\n",
    "\n",
    "            nn.ConvTranspose2d(256, 128, 2, 2, 0), #8x8\n",
    "            nn.BatchNorm2d(128),\n",
    "            nn.ReLU(inplace=True),\n",
    "\n",
    "            nn.ConvTranspose2d(128, 64, 2, 2, 0), #16x16\n",
    "            nn.BatchNorm2d(64),\n",
    "            nn.ReLU(inplace=True),\n",
    "\n",
    "            nn.ConvTranspose2d(64, 3, 2, 2, 0), #32x32\n",
    "            nn.Tanh()\n",
    "        )\n",
    "\n",
    "    def forward(self, x):\n",
    "        return self.main(x)"
   ]
  },
  {
   "cell_type": "markdown",
   "id": "455964e4-2e87-4c15-8190-1ecb2224b9c9",
   "metadata": {},
   "source": [
    "## discriminator"
   ]
  },
  {
   "cell_type": "code",
   "execution_count": 30,
   "id": "2a5ee606-63e6-4157-8055-610fe88dab31",
   "metadata": {},
   "outputs": [],
   "source": [
    "class Discriminator(nn.Module):\n",
    "    def __init__(self):\n",
    "        super().__init__()\n",
    "        self.model = nn.Sequential(\n",
    "            nn.Conv2d(3, 32, kernel_size=3, padding=1),\n",
    "            nn.BatchNorm2d(32),\n",
    "            nn.LeakyReLU(0.2, inplace=True),\n",
    "\n",
    "            nn.AvgPool2d(2),\n",
    "            nn.Conv2d(32, 64, kernel_size=3, padding=1),\n",
    "            nn.BatchNorm2d(64),\n",
    "            nn.LeakyReLU(0.2, inplace=True),\n",
    "\n",
    "            nn.AvgPool2d(2),\n",
    "            nn.Conv2d(64, 128, kernel_size=3, padding=1),\n",
    "            nn.BatchNorm2d(128),\n",
    "            nn.LeakyReLU(0.2, inplace=True),\n",
    "\n",
    "            nn.AvgPool2d(2),\n",
    "            nn.Conv2d(128, 256, kernel_size=3, padding=1),\n",
    "            nn.BatchNorm2d(256),\n",
    "            nn.LeakyReLU(0.2, inplace=True),\n",
    "\n",
    "            nn.AvgPool2d(4),\n",
    "            nn.Conv2d(256, 1, 1) # fcの代わり\n",
    "        )\n",
    "\n",
    "    def forward(self, x):\n",
    "        return self.model(x).squeeze()"
   ]
  },
  {
   "cell_type": "markdown",
   "id": "0b6cc6ba-4fcc-4992-805e-8672ee37fa18",
   "metadata": {},
   "source": [
    "# prepare for train"
   ]
  },
  {
   "cell_type": "code",
   "execution_count": 31,
   "id": "910cb618-24f9-4b24-aea0-4ec41f663a88",
   "metadata": {},
   "outputs": [],
   "source": [
    "device\n",
    "model_g, model_d = Generator(), Discriminator()\n",
    "model_g, model_d = nn.DataParallel(model_g), nn.DataParallel(model_d)\n",
    "model_g, model_d = model_g.to(device), model_d.to(device)\n",
    "\n",
    "params_g = torch.optim.Adam(model_g.parameters(),\n",
    "            lr=0.0002, betas=(0.5, 0.999))\n",
    "params_d = torch.optim.Adam(model_d.parameters(),\n",
    "            lr=0.0002, betas=(0.5, 0.999))\n",
    "\n",
    "\n",
    "# label\n",
    "ones = torch.ones(512).to(device)\n",
    "zeros = torch.zeros(512).to(device)\n",
    "loss_f = nn.BCEWithLogitsLoss()\n",
    "# エラー推移\n",
    "result = {}\n",
    "result[\"log_loss_g\"] = []\n",
    "result[\"log_loss_d\"] = []"
   ]
  },
  {
   "cell_type": "markdown",
   "id": "f4eeb743-b4b8-4e73-b544-0a0efa5118be",
   "metadata": {},
   "source": [
    "# train"
   ]
  },
  {
   "cell_type": "code",
   "execution_count": 32,
   "id": "54590ebe-1d0a-4dbe-83b2-2ddec63cf2c4",
   "metadata": {
    "scrolled": true
   },
   "outputs": [
    {
     "name": "stderr",
     "output_type": "stream",
     "text": [
      "100% 98/98 [00:07<00:00, 12.77it/s]\n"
     ]
    },
    {
     "name": "stdout",
     "output_type": "stream",
     "text": [
      "log_loss_g = 0.8045306649743295 , log_loss_d = 1.1647337212854503\n"
     ]
    },
    {
     "name": "stderr",
     "output_type": "stream",
     "text": [
      "100% 98/98 [00:06<00:00, 15.90it/s]\n"
     ]
    },
    {
     "name": "stdout",
     "output_type": "stream",
     "text": [
      "log_loss_g = 0.7755461779175973 , log_loss_d = 1.2587564952519474\n"
     ]
    },
    {
     "name": "stderr",
     "output_type": "stream",
     "text": [
      "100% 98/98 [00:06<00:00, 15.83it/s]\n"
     ]
    },
    {
     "name": "stdout",
     "output_type": "stream",
     "text": [
      "log_loss_g = 0.7773324062629622 , log_loss_d = 1.267921537769084\n"
     ]
    },
    {
     "name": "stderr",
     "output_type": "stream",
     "text": [
      "100% 98/98 [00:06<00:00, 15.88it/s]\n"
     ]
    },
    {
     "name": "stdout",
     "output_type": "stream",
     "text": [
      "log_loss_g = 0.7894815522797254 , log_loss_d = 1.2441255717861408\n"
     ]
    },
    {
     "name": "stderr",
     "output_type": "stream",
     "text": [
      "100% 98/98 [00:06<00:00, 16.01it/s]\n"
     ]
    },
    {
     "name": "stdout",
     "output_type": "stream",
     "text": [
      "log_loss_g = 0.822343492994503 , log_loss_d = 1.2238664353380397\n"
     ]
    },
    {
     "name": "stderr",
     "output_type": "stream",
     "text": [
      "100% 98/98 [00:06<00:00, 15.95it/s]\n"
     ]
    },
    {
     "name": "stdout",
     "output_type": "stream",
     "text": [
      "log_loss_g = 0.84222924648499 , log_loss_d = 1.1974877897573977\n"
     ]
    },
    {
     "name": "stderr",
     "output_type": "stream",
     "text": [
      "100% 98/98 [00:06<00:00, 15.86it/s]\n"
     ]
    },
    {
     "name": "stdout",
     "output_type": "stream",
     "text": [
      "log_loss_g = 0.8679401448794773 , log_loss_d = 1.1572548187508875\n"
     ]
    },
    {
     "name": "stderr",
     "output_type": "stream",
     "text": [
      "100% 98/98 [00:06<00:00, 15.94it/s]\n"
     ]
    },
    {
     "name": "stdout",
     "output_type": "stream",
     "text": [
      "log_loss_g = 0.8776060148161284 , log_loss_d = 1.15736174522614\n"
     ]
    },
    {
     "name": "stderr",
     "output_type": "stream",
     "text": [
      "100% 98/98 [00:06<00:00, 16.01it/s]\n"
     ]
    },
    {
     "name": "stdout",
     "output_type": "stream",
     "text": [
      "log_loss_g = 0.9042877944148316 , log_loss_d = 1.1217873978371522\n"
     ]
    },
    {
     "name": "stderr",
     "output_type": "stream",
     "text": [
      "100% 98/98 [00:06<00:00, 15.91it/s]\n"
     ]
    },
    {
     "name": "stdout",
     "output_type": "stream",
     "text": [
      "log_loss_g = 0.9403201560584866 , log_loss_d = 1.0691549911790965\n"
     ]
    },
    {
     "name": "stderr",
     "output_type": "stream",
     "text": [
      "100% 98/98 [00:06<00:00, 15.82it/s]\n"
     ]
    },
    {
     "name": "stdout",
     "output_type": "stream",
     "text": [
      "log_loss_g = 0.9511809409881125 , log_loss_d = 1.1077496713521529\n"
     ]
    },
    {
     "name": "stderr",
     "output_type": "stream",
     "text": [
      "100% 98/98 [00:05<00:00, 16.40it/s]\n"
     ]
    },
    {
     "name": "stdout",
     "output_type": "stream",
     "text": [
      "log_loss_g = 0.9735024613993508 , log_loss_d = 1.0523050050346219\n"
     ]
    },
    {
     "name": "stderr",
     "output_type": "stream",
     "text": [
      "100% 98/98 [00:06<00:00, 16.31it/s]\n"
     ]
    },
    {
     "name": "stdout",
     "output_type": "stream",
     "text": [
      "log_loss_g = 0.9643630798982115 , log_loss_d = 1.0573263320387627\n"
     ]
    },
    {
     "name": "stderr",
     "output_type": "stream",
     "text": [
      "100% 98/98 [00:05<00:00, 16.38it/s]\n"
     ]
    },
    {
     "name": "stdout",
     "output_type": "stream",
     "text": [
      "log_loss_g = 1.0324124401929426 , log_loss_d = 1.0190226180212838\n"
     ]
    },
    {
     "name": "stderr",
     "output_type": "stream",
     "text": [
      "100% 98/98 [00:06<00:00, 16.16it/s]\n"
     ]
    },
    {
     "name": "stdout",
     "output_type": "stream",
     "text": [
      "log_loss_g = 1.0496293215119108 , log_loss_d = 0.9790526366963679\n"
     ]
    },
    {
     "name": "stderr",
     "output_type": "stream",
     "text": [
      "100% 98/98 [00:06<00:00, 16.21it/s]\n"
     ]
    },
    {
     "name": "stdout",
     "output_type": "stream",
     "text": [
      "log_loss_g = 1.0688470589871308 , log_loss_d = 0.991948023742559\n"
     ]
    },
    {
     "name": "stderr",
     "output_type": "stream",
     "text": [
      "100% 98/98 [00:06<00:00, 16.17it/s]\n"
     ]
    },
    {
     "name": "stdout",
     "output_type": "stream",
     "text": [
      "log_loss_g = 1.0975324031041593 , log_loss_d = 0.960242540252452\n"
     ]
    },
    {
     "name": "stderr",
     "output_type": "stream",
     "text": [
      "100% 98/98 [00:06<00:00, 16.29it/s]\n"
     ]
    },
    {
     "name": "stdout",
     "output_type": "stream",
     "text": [
      "log_loss_g = 1.1147272167157154 , log_loss_d = 0.9575826318896546\n"
     ]
    },
    {
     "name": "stderr",
     "output_type": "stream",
     "text": [
      "100% 98/98 [00:05<00:00, 16.34it/s]\n"
     ]
    },
    {
     "name": "stdout",
     "output_type": "stream",
     "text": [
      "log_loss_g = 1.137584031236415 , log_loss_d = 0.9202803172627274\n"
     ]
    },
    {
     "name": "stderr",
     "output_type": "stream",
     "text": [
      "100% 98/98 [00:06<00:00, 16.30it/s]\n"
     ]
    },
    {
     "name": "stdout",
     "output_type": "stream",
     "text": [
      "log_loss_g = 1.1795576196544024 , log_loss_d = 0.8902270976377993\n"
     ]
    },
    {
     "name": "stderr",
     "output_type": "stream",
     "text": [
      "100% 98/98 [00:06<00:00, 16.29it/s]\n"
     ]
    },
    {
     "name": "stdout",
     "output_type": "stream",
     "text": [
      "log_loss_g = 1.1916232759855232 , log_loss_d = 0.8576886507929588\n"
     ]
    },
    {
     "name": "stderr",
     "output_type": "stream",
     "text": [
      "100% 98/98 [00:06<00:00, 16.16it/s]\n"
     ]
    },
    {
     "name": "stdout",
     "output_type": "stream",
     "text": [
      "log_loss_g = 1.1993953762005787 , log_loss_d = 0.8880633942934931\n"
     ]
    },
    {
     "name": "stderr",
     "output_type": "stream",
     "text": [
      "100% 98/98 [00:06<00:00, 16.16it/s]\n"
     ]
    },
    {
     "name": "stdout",
     "output_type": "stream",
     "text": [
      "log_loss_g = 1.25194954568026 , log_loss_d = 0.823525245092353\n"
     ]
    },
    {
     "name": "stderr",
     "output_type": "stream",
     "text": [
      "100% 98/98 [00:06<00:00, 16.00it/s]\n"
     ]
    },
    {
     "name": "stdout",
     "output_type": "stream",
     "text": [
      "log_loss_g = 1.226149313303889 , log_loss_d = 0.8623531235724079\n"
     ]
    },
    {
     "name": "stderr",
     "output_type": "stream",
     "text": [
      "100% 98/98 [00:06<00:00, 16.27it/s]\n"
     ]
    },
    {
     "name": "stdout",
     "output_type": "stream",
     "text": [
      "log_loss_g = 1.268004023907136 , log_loss_d = 0.80232321364539\n"
     ]
    },
    {
     "name": "stderr",
     "output_type": "stream",
     "text": [
      "100% 98/98 [00:06<00:00, 16.17it/s]\n"
     ]
    },
    {
     "name": "stdout",
     "output_type": "stream",
     "text": [
      "log_loss_g = 1.2972945747326832 , log_loss_d = 0.8077530514220802\n"
     ]
    },
    {
     "name": "stderr",
     "output_type": "stream",
     "text": [
      "100% 98/98 [00:06<00:00, 16.19it/s]\n"
     ]
    },
    {
     "name": "stdout",
     "output_type": "stream",
     "text": [
      "log_loss_g = 1.318202291216169 , log_loss_d = 0.782510439048008\n"
     ]
    },
    {
     "name": "stderr",
     "output_type": "stream",
     "text": [
      "100% 98/98 [00:06<00:00, 16.27it/s]\n"
     ]
    },
    {
     "name": "stdout",
     "output_type": "stream",
     "text": [
      "log_loss_g = 1.3406694671329187 , log_loss_d = 0.7833009502109216\n"
     ]
    },
    {
     "name": "stderr",
     "output_type": "stream",
     "text": [
      "100% 98/98 [00:05<00:00, 16.49it/s]\n"
     ]
    },
    {
     "name": "stdout",
     "output_type": "stream",
     "text": [
      "log_loss_g = 1.3401304684123214 , log_loss_d = 0.7754367827152719\n"
     ]
    },
    {
     "name": "stderr",
     "output_type": "stream",
     "text": [
      "100% 98/98 [00:05<00:00, 16.45it/s]\n"
     ]
    },
    {
     "name": "stdout",
     "output_type": "stream",
     "text": [
      "log_loss_g = 1.3606973637123496 , log_loss_d = 0.747697157215099\n"
     ]
    },
    {
     "name": "stderr",
     "output_type": "stream",
     "text": [
      "100% 98/98 [00:05<00:00, 16.36it/s]\n"
     ]
    },
    {
     "name": "stdout",
     "output_type": "stream",
     "text": [
      "log_loss_g = 1.3793445259940869 , log_loss_d = 0.7613111935099777\n"
     ]
    },
    {
     "name": "stderr",
     "output_type": "stream",
     "text": [
      "100% 98/98 [00:05<00:00, 16.40it/s]\n"
     ]
    },
    {
     "name": "stdout",
     "output_type": "stream",
     "text": [
      "log_loss_g = 1.3925450900379492 , log_loss_d = 0.7566762761193879\n"
     ]
    },
    {
     "name": "stderr",
     "output_type": "stream",
     "text": [
      "100% 98/98 [00:05<00:00, 16.39it/s]\n"
     ]
    },
    {
     "name": "stdout",
     "output_type": "stream",
     "text": [
      "log_loss_g = 1.3922412468462575 , log_loss_d = 0.7289156792115192\n"
     ]
    },
    {
     "name": "stderr",
     "output_type": "stream",
     "text": [
      "100% 98/98 [00:05<00:00, 16.43it/s]\n"
     ]
    },
    {
     "name": "stdout",
     "output_type": "stream",
     "text": [
      "log_loss_g = 1.429297294543714 , log_loss_d = 0.7435369619301387\n"
     ]
    },
    {
     "name": "stderr",
     "output_type": "stream",
     "text": [
      "100% 98/98 [00:05<00:00, 16.39it/s]\n"
     ]
    },
    {
     "name": "stdout",
     "output_type": "stream",
     "text": [
      "log_loss_g = 1.4482128462012933 , log_loss_d = 0.7299941428461854\n"
     ]
    },
    {
     "name": "stderr",
     "output_type": "stream",
     "text": [
      "100% 98/98 [00:05<00:00, 16.37it/s]\n"
     ]
    },
    {
     "name": "stdout",
     "output_type": "stream",
     "text": [
      "log_loss_g = 1.4608189305480646 , log_loss_d = 0.7026504743464139\n"
     ]
    },
    {
     "name": "stderr",
     "output_type": "stream",
     "text": [
      "100% 98/98 [00:05<00:00, 16.42it/s]\n"
     ]
    },
    {
     "name": "stdout",
     "output_type": "stream",
     "text": [
      "log_loss_g = 1.4776795308808892 , log_loss_d = 0.7173871626051105\n"
     ]
    },
    {
     "name": "stderr",
     "output_type": "stream",
     "text": [
      "100% 98/98 [00:05<00:00, 16.53it/s]\n"
     ]
    },
    {
     "name": "stdout",
     "output_type": "stream",
     "text": [
      "log_loss_g = 1.5540771536072906 , log_loss_d = 0.6522243767976761\n"
     ]
    },
    {
     "name": "stderr",
     "output_type": "stream",
     "text": [
      "100% 98/98 [00:05<00:00, 16.38it/s]\n"
     ]
    },
    {
     "name": "stdout",
     "output_type": "stream",
     "text": [
      "log_loss_g = 1.5121714649151783 , log_loss_d = 0.7008427311571277\n"
     ]
    },
    {
     "name": "stderr",
     "output_type": "stream",
     "text": [
      "100% 98/98 [00:05<00:00, 16.52it/s]\n"
     ]
    },
    {
     "name": "stdout",
     "output_type": "stream",
     "text": [
      "log_loss_g = 1.5416358466051063 , log_loss_d = 0.6672967666265915\n"
     ]
    },
    {
     "name": "stderr",
     "output_type": "stream",
     "text": [
      "100% 98/98 [00:06<00:00, 16.32it/s]\n"
     ]
    },
    {
     "name": "stdout",
     "output_type": "stream",
     "text": [
      "log_loss_g = 1.596781697200269 , log_loss_d = 0.6202558452377513\n"
     ]
    },
    {
     "name": "stderr",
     "output_type": "stream",
     "text": [
      "100% 98/98 [00:05<00:00, 16.44it/s]\n"
     ]
    },
    {
     "name": "stdout",
     "output_type": "stream",
     "text": [
      "log_loss_g = 1.5874838068777202 , log_loss_d = 0.6804261511685897\n"
     ]
    },
    {
     "name": "stderr",
     "output_type": "stream",
     "text": [
      "100% 98/98 [00:05<00:00, 16.41it/s]\n"
     ]
    },
    {
     "name": "stdout",
     "output_type": "stream",
     "text": [
      "log_loss_g = 1.5951927504977401 , log_loss_d = 0.6287694959616175\n"
     ]
    },
    {
     "name": "stderr",
     "output_type": "stream",
     "text": [
      "100% 98/98 [00:05<00:00, 16.39it/s]\n"
     ]
    },
    {
     "name": "stdout",
     "output_type": "stream",
     "text": [
      "log_loss_g = 1.5863909143574384 , log_loss_d = 0.7096337964948343\n"
     ]
    },
    {
     "name": "stderr",
     "output_type": "stream",
     "text": [
      "100% 98/98 [00:06<00:00, 16.30it/s]\n"
     ]
    },
    {
     "name": "stdout",
     "output_type": "stream",
     "text": [
      "log_loss_g = 1.623551110223848 , log_loss_d = 0.6095132809512469\n"
     ]
    },
    {
     "name": "stderr",
     "output_type": "stream",
     "text": [
      "100% 98/98 [00:05<00:00, 16.42it/s]\n"
     ]
    },
    {
     "name": "stdout",
     "output_type": "stream",
     "text": [
      "log_loss_g = 1.6425950472452202 , log_loss_d = 0.640270821294006\n"
     ]
    },
    {
     "name": "stderr",
     "output_type": "stream",
     "text": [
      "100% 98/98 [00:05<00:00, 16.57it/s]\n"
     ]
    },
    {
     "name": "stdout",
     "output_type": "stream",
     "text": [
      "log_loss_g = 1.6677856384491434 , log_loss_d = 0.5888257789976743\n"
     ]
    },
    {
     "name": "stderr",
     "output_type": "stream",
     "text": [
      "100% 98/98 [00:06<00:00, 16.30it/s]\n"
     ]
    },
    {
     "name": "stdout",
     "output_type": "stream",
     "text": [
      "log_loss_g = 1.669810947106809 , log_loss_d = 0.5978161683496164\n"
     ]
    },
    {
     "name": "stderr",
     "output_type": "stream",
     "text": [
      "100% 98/98 [00:05<00:00, 16.59it/s]\n"
     ]
    },
    {
     "name": "stdout",
     "output_type": "stream",
     "text": [
      "log_loss_g = 1.6781985370480283 , log_loss_d = 0.6234318603362355\n"
     ]
    },
    {
     "name": "stderr",
     "output_type": "stream",
     "text": [
      "100% 98/98 [00:05<00:00, 16.38it/s]\n"
     ]
    },
    {
     "name": "stdout",
     "output_type": "stream",
     "text": [
      "log_loss_g = 1.6919719893105176 , log_loss_d = 0.6354181346844654\n"
     ]
    },
    {
     "name": "stderr",
     "output_type": "stream",
     "text": [
      "100% 98/98 [00:05<00:00, 16.47it/s]\n"
     ]
    },
    {
     "name": "stdout",
     "output_type": "stream",
     "text": [
      "log_loss_g = 1.6966327416653535 , log_loss_d = 0.5858151556885972\n"
     ]
    },
    {
     "name": "stderr",
     "output_type": "stream",
     "text": [
      "100% 98/98 [00:05<00:00, 16.44it/s]\n"
     ]
    },
    {
     "name": "stdout",
     "output_type": "stream",
     "text": [
      "log_loss_g = 1.7452499477230772 , log_loss_d = 0.5754834833193798\n"
     ]
    },
    {
     "name": "stderr",
     "output_type": "stream",
     "text": [
      "100% 98/98 [00:05<00:00, 16.46it/s]\n"
     ]
    },
    {
     "name": "stdout",
     "output_type": "stream",
     "text": [
      "log_loss_g = 1.7277294756198416 , log_loss_d = 0.6364686400914679\n"
     ]
    },
    {
     "name": "stderr",
     "output_type": "stream",
     "text": [
      "100% 98/98 [00:05<00:00, 16.41it/s]\n"
     ]
    },
    {
     "name": "stdout",
     "output_type": "stream",
     "text": [
      "log_loss_g = 1.7311685650932545 , log_loss_d = 0.5483917524011768\n"
     ]
    },
    {
     "name": "stderr",
     "output_type": "stream",
     "text": [
      "100% 98/98 [00:05<00:00, 16.42it/s]\n"
     ]
    },
    {
     "name": "stdout",
     "output_type": "stream",
     "text": [
      "log_loss_g = 1.7762030831405096 , log_loss_d = 0.5750339709374369\n"
     ]
    },
    {
     "name": "stderr",
     "output_type": "stream",
     "text": [
      "100% 98/98 [00:05<00:00, 16.44it/s]\n"
     ]
    },
    {
     "name": "stdout",
     "output_type": "stream",
     "text": [
      "log_loss_g = 1.8069428284557498 , log_loss_d = 0.5208175635459472\n"
     ]
    },
    {
     "name": "stderr",
     "output_type": "stream",
     "text": [
      "100% 98/98 [00:05<00:00, 16.46it/s]\n"
     ]
    },
    {
     "name": "stdout",
     "output_type": "stream",
     "text": [
      "log_loss_g = 1.7850017783289054 , log_loss_d = 0.5890220829418727\n"
     ]
    },
    {
     "name": "stderr",
     "output_type": "stream",
     "text": [
      "100% 98/98 [00:06<00:00, 16.27it/s]\n"
     ]
    },
    {
     "name": "stdout",
     "output_type": "stream",
     "text": [
      "log_loss_g = 1.8387393245891648 , log_loss_d = 0.5415864013591591\n"
     ]
    },
    {
     "name": "stderr",
     "output_type": "stream",
     "text": [
      "100% 98/98 [00:05<00:00, 16.36it/s]\n"
     ]
    },
    {
     "name": "stdout",
     "output_type": "stream",
     "text": [
      "log_loss_g = 1.848185556275504 , log_loss_d = 0.5836421900561878\n"
     ]
    },
    {
     "name": "stderr",
     "output_type": "stream",
     "text": [
      "100% 98/98 [00:05<00:00, 16.49it/s]\n"
     ]
    },
    {
     "name": "stdout",
     "output_type": "stream",
     "text": [
      "log_loss_g = 1.797019139844544 , log_loss_d = 0.5258188773782886\n"
     ]
    },
    {
     "name": "stderr",
     "output_type": "stream",
     "text": [
      "100% 98/98 [00:05<00:00, 16.36it/s]\n"
     ]
    },
    {
     "name": "stdout",
     "output_type": "stream",
     "text": [
      "log_loss_g = 1.9540421920163291 , log_loss_d = 0.4365683126510406\n"
     ]
    },
    {
     "name": "stderr",
     "output_type": "stream",
     "text": [
      "100% 98/98 [00:05<00:00, 16.47it/s]\n"
     ]
    },
    {
     "name": "stdout",
     "output_type": "stream",
     "text": [
      "log_loss_g = 1.8309079250510858 , log_loss_d = 0.6229320595763168\n"
     ]
    },
    {
     "name": "stderr",
     "output_type": "stream",
     "text": [
      "100% 98/98 [00:05<00:00, 16.34it/s]\n"
     ]
    },
    {
     "name": "stdout",
     "output_type": "stream",
     "text": [
      "log_loss_g = 1.9136850438555892 , log_loss_d = 0.45767087687034996\n"
     ]
    },
    {
     "name": "stderr",
     "output_type": "stream",
     "text": [
      "100% 98/98 [00:05<00:00, 16.44it/s]\n"
     ]
    },
    {
     "name": "stdout",
     "output_type": "stream",
     "text": [
      "log_loss_g = 1.9087058573353046 , log_loss_d = 0.5457440655754537\n"
     ]
    },
    {
     "name": "stderr",
     "output_type": "stream",
     "text": [
      "100% 98/98 [00:05<00:00, 16.42it/s]\n"
     ]
    },
    {
     "name": "stdout",
     "output_type": "stream",
     "text": [
      "log_loss_g = 1.9108253802571977 , log_loss_d = 0.5385368449651465\n"
     ]
    },
    {
     "name": "stderr",
     "output_type": "stream",
     "text": [
      "100% 98/98 [00:06<00:00, 16.27it/s]\n"
     ]
    },
    {
     "name": "stdout",
     "output_type": "stream",
     "text": [
      "log_loss_g = 1.9173486591601858 , log_loss_d = 0.48314231542908415\n"
     ]
    },
    {
     "name": "stderr",
     "output_type": "stream",
     "text": [
      "100% 98/98 [00:05<00:00, 16.45it/s]\n"
     ]
    },
    {
     "name": "stdout",
     "output_type": "stream",
     "text": [
      "log_loss_g = 1.9615100144731754 , log_loss_d = 0.5182858863655402\n"
     ]
    },
    {
     "name": "stderr",
     "output_type": "stream",
     "text": [
      "100% 98/98 [00:05<00:00, 16.44it/s]\n"
     ]
    },
    {
     "name": "stdout",
     "output_type": "stream",
     "text": [
      "log_loss_g = 1.9140056855216319 , log_loss_d = 0.5861293389176836\n"
     ]
    },
    {
     "name": "stderr",
     "output_type": "stream",
     "text": [
      "100% 98/98 [00:05<00:00, 16.38it/s]\n"
     ]
    },
    {
     "name": "stdout",
     "output_type": "stream",
     "text": [
      "log_loss_g = 2.0124576468856965 , log_loss_d = 0.42898011861407026\n"
     ]
    },
    {
     "name": "stderr",
     "output_type": "stream",
     "text": [
      "100% 98/98 [00:06<00:00, 16.13it/s]\n"
     ]
    },
    {
     "name": "stdout",
     "output_type": "stream",
     "text": [
      "log_loss_g = 1.9698794961583859 , log_loss_d = 0.521092849574527\n"
     ]
    },
    {
     "name": "stderr",
     "output_type": "stream",
     "text": [
      "100% 98/98 [00:06<00:00, 16.27it/s]\n"
     ]
    },
    {
     "name": "stdout",
     "output_type": "stream",
     "text": [
      "log_loss_g = 2.036167235398779 , log_loss_d = 0.4489342065490022\n"
     ]
    },
    {
     "name": "stderr",
     "output_type": "stream",
     "text": [
      "100% 98/98 [00:05<00:00, 16.39it/s]\n"
     ]
    },
    {
     "name": "stdout",
     "output_type": "stream",
     "text": [
      "log_loss_g = 1.9874254276557846 , log_loss_d = 0.5392057555062431\n"
     ]
    },
    {
     "name": "stderr",
     "output_type": "stream",
     "text": [
      "100% 98/98 [00:05<00:00, 16.42it/s]\n"
     ]
    },
    {
     "name": "stdout",
     "output_type": "stream",
     "text": [
      "log_loss_g = 2.0255483790319793 , log_loss_d = 0.4745946972041714\n"
     ]
    },
    {
     "name": "stderr",
     "output_type": "stream",
     "text": [
      "100% 98/98 [00:05<00:00, 16.46it/s]\n"
     ]
    },
    {
     "name": "stdout",
     "output_type": "stream",
     "text": [
      "log_loss_g = 1.9607945774890938 , log_loss_d = 0.5900330908444463\n"
     ]
    },
    {
     "name": "stderr",
     "output_type": "stream",
     "text": [
      "100% 98/98 [00:05<00:00, 16.45it/s]\n"
     ]
    },
    {
     "name": "stdout",
     "output_type": "stream",
     "text": [
      "log_loss_g = 2.0351142858972353 , log_loss_d = 0.4900100406031219\n"
     ]
    },
    {
     "name": "stderr",
     "output_type": "stream",
     "text": [
      "100% 98/98 [00:05<00:00, 16.49it/s]\n"
     ]
    },
    {
     "name": "stdout",
     "output_type": "stream",
     "text": [
      "log_loss_g = 2.041543248356605 , log_loss_d = 0.4444677066438052\n"
     ]
    },
    {
     "name": "stderr",
     "output_type": "stream",
     "text": [
      "100% 98/98 [00:05<00:00, 16.48it/s]\n"
     ]
    },
    {
     "name": "stdout",
     "output_type": "stream",
     "text": [
      "log_loss_g = 2.038920058887832 , log_loss_d = 0.47397227539699904\n"
     ]
    },
    {
     "name": "stderr",
     "output_type": "stream",
     "text": [
      "100% 98/98 [00:05<00:00, 16.43it/s]\n"
     ]
    },
    {
     "name": "stdout",
     "output_type": "stream",
     "text": [
      "log_loss_g = 2.094950231970573 , log_loss_d = 0.4308724146412343\n"
     ]
    },
    {
     "name": "stderr",
     "output_type": "stream",
     "text": [
      "100% 98/98 [00:05<00:00, 16.42it/s]\n"
     ]
    },
    {
     "name": "stdout",
     "output_type": "stream",
     "text": [
      "log_loss_g = 2.030793217980132 , log_loss_d = 0.558070431254348\n"
     ]
    },
    {
     "name": "stderr",
     "output_type": "stream",
     "text": [
      "100% 98/98 [00:05<00:00, 16.43it/s]\n"
     ]
    },
    {
     "name": "stdout",
     "output_type": "stream",
     "text": [
      "log_loss_g = 2.0802283411731524 , log_loss_d = 0.4794360668379433\n"
     ]
    },
    {
     "name": "stderr",
     "output_type": "stream",
     "text": [
      "100% 98/98 [00:05<00:00, 16.45it/s]\n"
     ]
    },
    {
     "name": "stdout",
     "output_type": "stream",
     "text": [
      "log_loss_g = 2.1475401824834397 , log_loss_d = 0.40700939997118346\n"
     ]
    },
    {
     "name": "stderr",
     "output_type": "stream",
     "text": [
      "100% 98/98 [00:05<00:00, 16.50it/s]\n"
     ]
    },
    {
     "name": "stdout",
     "output_type": "stream",
     "text": [
      "log_loss_g = 2.136647024629067 , log_loss_d = 0.46998848925743786\n"
     ]
    },
    {
     "name": "stderr",
     "output_type": "stream",
     "text": [
      "100% 98/98 [00:05<00:00, 16.41it/s]\n"
     ]
    },
    {
     "name": "stdout",
     "output_type": "stream",
     "text": [
      "log_loss_g = 2.143106595594056 , log_loss_d = 0.40894758442834933\n"
     ]
    },
    {
     "name": "stderr",
     "output_type": "stream",
     "text": [
      "100% 98/98 [00:05<00:00, 16.45it/s]\n"
     ]
    },
    {
     "name": "stdout",
     "output_type": "stream",
     "text": [
      "log_loss_g = 2.130641819871202 , log_loss_d = 0.4645431878007188\n"
     ]
    },
    {
     "name": "stderr",
     "output_type": "stream",
     "text": [
      "100% 98/98 [00:05<00:00, 16.46it/s]\n"
     ]
    },
    {
     "name": "stdout",
     "output_type": "stream",
     "text": [
      "log_loss_g = 2.1458919626109454 , log_loss_d = 0.4061963936808158\n"
     ]
    },
    {
     "name": "stderr",
     "output_type": "stream",
     "text": [
      "100% 98/98 [00:05<00:00, 16.43it/s]\n"
     ]
    },
    {
     "name": "stdout",
     "output_type": "stream",
     "text": [
      "log_loss_g = 2.09319783564733 , log_loss_d = 0.5193356347023225\n"
     ]
    },
    {
     "name": "stderr",
     "output_type": "stream",
     "text": [
      "100% 98/98 [00:05<00:00, 16.34it/s]\n"
     ]
    },
    {
     "name": "stdout",
     "output_type": "stream",
     "text": [
      "log_loss_g = 2.1298226233647792 , log_loss_d = 0.48939000267763527\n"
     ]
    },
    {
     "name": "stderr",
     "output_type": "stream",
     "text": [
      "100% 98/98 [00:05<00:00, 16.40it/s]\n"
     ]
    },
    {
     "name": "stdout",
     "output_type": "stream",
     "text": [
      "log_loss_g = 2.208192606361545 , log_loss_d = 0.3955038714469696\n"
     ]
    },
    {
     "name": "stderr",
     "output_type": "stream",
     "text": [
      "100% 98/98 [00:05<00:00, 16.36it/s]\n"
     ]
    },
    {
     "name": "stdout",
     "output_type": "stream",
     "text": [
      "log_loss_g = 2.1835464719606907 , log_loss_d = 0.4152426304561751\n"
     ]
    },
    {
     "name": "stderr",
     "output_type": "stream",
     "text": [
      "100% 98/98 [00:05<00:00, 16.42it/s]\n"
     ]
    },
    {
     "name": "stdout",
     "output_type": "stream",
     "text": [
      "log_loss_g = 2.1675325778065897 , log_loss_d = 0.42033691172088894\n"
     ]
    },
    {
     "name": "stderr",
     "output_type": "stream",
     "text": [
      "100% 98/98 [00:05<00:00, 16.38it/s]\n"
     ]
    },
    {
     "name": "stdout",
     "output_type": "stream",
     "text": [
      "log_loss_g = 2.2446585629059346 , log_loss_d = 0.39143609308770727\n"
     ]
    },
    {
     "name": "stderr",
     "output_type": "stream",
     "text": [
      "100% 98/98 [00:06<00:00, 16.33it/s]\n"
     ]
    },
    {
     "name": "stdout",
     "output_type": "stream",
     "text": [
      "log_loss_g = 1.8686704298063201 , log_loss_d = 0.7713395934932086\n"
     ]
    },
    {
     "name": "stderr",
     "output_type": "stream",
     "text": [
      "100% 98/98 [00:05<00:00, 16.42it/s]\n"
     ]
    },
    {
     "name": "stdout",
     "output_type": "stream",
     "text": [
      "log_loss_g = 2.1605181073655886 , log_loss_d = 0.4541266910275634\n"
     ]
    },
    {
     "name": "stderr",
     "output_type": "stream",
     "text": [
      "100% 98/98 [00:05<00:00, 16.42it/s]\n"
     ]
    },
    {
     "name": "stdout",
     "output_type": "stream",
     "text": [
      "log_loss_g = 2.074871062624211 , log_loss_d = 0.5293917024926263\n"
     ]
    },
    {
     "name": "stderr",
     "output_type": "stream",
     "text": [
      "100% 98/98 [00:06<00:00, 16.20it/s]\n"
     ]
    },
    {
     "name": "stdout",
     "output_type": "stream",
     "text": [
      "log_loss_g = 2.220650551574571 , log_loss_d = 0.4222787635362878\n"
     ]
    },
    {
     "name": "stderr",
     "output_type": "stream",
     "text": [
      "100% 98/98 [00:05<00:00, 16.34it/s]\n"
     ]
    },
    {
     "name": "stdout",
     "output_type": "stream",
     "text": [
      "log_loss_g = 2.261597193017298 , log_loss_d = 0.3934164798381377\n"
     ]
    },
    {
     "name": "stderr",
     "output_type": "stream",
     "text": [
      "100% 98/98 [00:05<00:00, 16.36it/s]\n"
     ]
    },
    {
     "name": "stdout",
     "output_type": "stream",
     "text": [
      "log_loss_g = 2.26358006924999 , log_loss_d = 0.3895196574074881\n"
     ]
    },
    {
     "name": "stderr",
     "output_type": "stream",
     "text": [
      "100% 98/98 [00:06<00:00, 16.17it/s]\n"
     ]
    },
    {
     "name": "stdout",
     "output_type": "stream",
     "text": [
      "log_loss_g = 2.305617570877075 , log_loss_d = 0.3366574620713993\n"
     ]
    },
    {
     "name": "stderr",
     "output_type": "stream",
     "text": [
      "100% 98/98 [00:05<00:00, 16.36it/s]\n"
     ]
    },
    {
     "name": "stdout",
     "output_type": "stream",
     "text": [
      "log_loss_g = 2.1569206860600687 , log_loss_d = 0.5529668451267846\n"
     ]
    },
    {
     "name": "stderr",
     "output_type": "stream",
     "text": [
      "100% 98/98 [00:05<00:00, 16.44it/s]\n"
     ]
    },
    {
     "name": "stdout",
     "output_type": "stream",
     "text": [
      "log_loss_g = 2.269594565338018 , log_loss_d = 0.37444274157893903\n"
     ]
    },
    {
     "name": "stderr",
     "output_type": "stream",
     "text": [
      "100% 98/98 [00:05<00:00, 16.38it/s]\n"
     ]
    },
    {
     "name": "stdout",
     "output_type": "stream",
     "text": [
      "log_loss_g = 2.1131970295492484 , log_loss_d = 0.5527377095149488\n"
     ]
    },
    {
     "name": "stderr",
     "output_type": "stream",
     "text": [
      "100% 98/98 [00:05<00:00, 16.36it/s]\n"
     ]
    },
    {
     "name": "stdout",
     "output_type": "stream",
     "text": [
      "log_loss_g = 2.3491727989547107 , log_loss_d = 0.3375878364455943\n"
     ]
    },
    {
     "name": "stderr",
     "output_type": "stream",
     "text": [
      "100% 98/98 [00:05<00:00, 16.39it/s]\n"
     ]
    },
    {
     "name": "stdout",
     "output_type": "stream",
     "text": [
      "log_loss_g = 2.290257397658971 , log_loss_d = 0.41862176252262934\n"
     ]
    },
    {
     "name": "stderr",
     "output_type": "stream",
     "text": [
      "100% 98/98 [00:05<00:00, 16.39it/s]\n"
     ]
    },
    {
     "name": "stdout",
     "output_type": "stream",
     "text": [
      "log_loss_g = 2.3471827625620123 , log_loss_d = 0.3889949799192195\n"
     ]
    },
    {
     "name": "stderr",
     "output_type": "stream",
     "text": [
      "100% 98/98 [00:05<00:00, 16.42it/s]\n"
     ]
    },
    {
     "name": "stdout",
     "output_type": "stream",
     "text": [
      "log_loss_g = 2.249362606479197 , log_loss_d = 0.4381633712625017\n"
     ]
    },
    {
     "name": "stderr",
     "output_type": "stream",
     "text": [
      "100% 98/98 [00:05<00:00, 16.45it/s]\n"
     ]
    },
    {
     "name": "stdout",
     "output_type": "stream",
     "text": [
      "log_loss_g = 2.3197342732122967 , log_loss_d = 0.3746482139947463\n"
     ]
    },
    {
     "name": "stderr",
     "output_type": "stream",
     "text": [
      "100% 98/98 [00:05<00:00, 16.37it/s]\n"
     ]
    },
    {
     "name": "stdout",
     "output_type": "stream",
     "text": [
      "log_loss_g = 2.2766145096749675 , log_loss_d = 0.44555329820331263\n"
     ]
    },
    {
     "name": "stderr",
     "output_type": "stream",
     "text": [
      "100% 98/98 [00:06<00:00, 16.21it/s]\n"
     ]
    },
    {
     "name": "stdout",
     "output_type": "stream",
     "text": [
      "log_loss_g = 2.507531227505937 , log_loss_d = 0.27886037863030727\n"
     ]
    },
    {
     "name": "stderr",
     "output_type": "stream",
     "text": [
      "100% 98/98 [00:06<00:00, 16.19it/s]\n"
     ]
    },
    {
     "name": "stdout",
     "output_type": "stream",
     "text": [
      "log_loss_g = 2.153215779637804 , log_loss_d = 0.5809846555396002\n"
     ]
    },
    {
     "name": "stderr",
     "output_type": "stream",
     "text": [
      "100% 98/98 [00:06<00:00, 16.25it/s]\n"
     ]
    },
    {
     "name": "stdout",
     "output_type": "stream",
     "text": [
      "log_loss_g = 2.3635281111512865 , log_loss_d = 0.35946063651722304\n"
     ]
    },
    {
     "name": "stderr",
     "output_type": "stream",
     "text": [
      "100% 98/98 [00:06<00:00, 16.28it/s]\n"
     ]
    },
    {
     "name": "stdout",
     "output_type": "stream",
     "text": [
      "log_loss_g = 2.455393841072005 , log_loss_d = 0.29356740110990953\n"
     ]
    },
    {
     "name": "stderr",
     "output_type": "stream",
     "text": [
      "100% 98/98 [00:05<00:00, 16.40it/s]\n"
     ]
    },
    {
     "name": "stdout",
     "output_type": "stream",
     "text": [
      "log_loss_g = 2.3250179141759872 , log_loss_d = 0.454647887194035\n"
     ]
    },
    {
     "name": "stderr",
     "output_type": "stream",
     "text": [
      "100% 98/98 [00:05<00:00, 16.45it/s]\n"
     ]
    },
    {
     "name": "stdout",
     "output_type": "stream",
     "text": [
      "log_loss_g = 2.322914722318552 , log_loss_d = 0.4074269606142628\n"
     ]
    },
    {
     "name": "stderr",
     "output_type": "stream",
     "text": [
      "100% 98/98 [00:05<00:00, 16.43it/s]\n"
     ]
    },
    {
     "name": "stdout",
     "output_type": "stream",
     "text": [
      "log_loss_g = 2.345810612245482 , log_loss_d = 0.45808685130002547\n"
     ]
    },
    {
     "name": "stderr",
     "output_type": "stream",
     "text": [
      "100% 98/98 [00:05<00:00, 16.47it/s]\n"
     ]
    },
    {
     "name": "stdout",
     "output_type": "stream",
     "text": [
      "log_loss_g = 2.412263396443153 , log_loss_d = 0.3207149360404939\n"
     ]
    },
    {
     "name": "stderr",
     "output_type": "stream",
     "text": [
      "100% 98/98 [00:05<00:00, 16.44it/s]\n"
     ]
    },
    {
     "name": "stdout",
     "output_type": "stream",
     "text": [
      "log_loss_g = 2.283475743416621 , log_loss_d = 0.5272459956456204\n"
     ]
    },
    {
     "name": "stderr",
     "output_type": "stream",
     "text": [
      "100% 98/98 [00:06<00:00, 16.26it/s]\n"
     ]
    },
    {
     "name": "stdout",
     "output_type": "stream",
     "text": [
      "log_loss_g = 2.4013148179011687 , log_loss_d = 0.35831879155368224\n"
     ]
    },
    {
     "name": "stderr",
     "output_type": "stream",
     "text": [
      "100% 98/98 [00:05<00:00, 16.38it/s]\n"
     ]
    },
    {
     "name": "stdout",
     "output_type": "stream",
     "text": [
      "log_loss_g = 2.5275083999244536 , log_loss_d = 0.27575353183308426\n"
     ]
    },
    {
     "name": "stderr",
     "output_type": "stream",
     "text": [
      "100% 98/98 [00:05<00:00, 16.40it/s]\n"
     ]
    },
    {
     "name": "stdout",
     "output_type": "stream",
     "text": [
      "log_loss_g = 2.308030843734741 , log_loss_d = 0.45154697516438913\n"
     ]
    },
    {
     "name": "stderr",
     "output_type": "stream",
     "text": [
      "100% 98/98 [00:05<00:00, 16.44it/s]\n"
     ]
    },
    {
     "name": "stdout",
     "output_type": "stream",
     "text": [
      "log_loss_g = 2.3930437187759246 , log_loss_d = 0.5407798836121753\n"
     ]
    },
    {
     "name": "stderr",
     "output_type": "stream",
     "text": [
      "100% 98/98 [00:05<00:00, 16.50it/s]\n"
     ]
    },
    {
     "name": "stdout",
     "output_type": "stream",
     "text": [
      "log_loss_g = 2.359378812264423 , log_loss_d = 0.3496121030528935\n"
     ]
    },
    {
     "name": "stderr",
     "output_type": "stream",
     "text": [
      "100% 98/98 [00:05<00:00, 16.49it/s]\n"
     ]
    },
    {
     "name": "stdout",
     "output_type": "stream",
     "text": [
      "log_loss_g = 2.3961330436322155 , log_loss_d = 0.41073813912819845\n"
     ]
    },
    {
     "name": "stderr",
     "output_type": "stream",
     "text": [
      "100% 98/98 [00:05<00:00, 16.50it/s]\n"
     ]
    },
    {
     "name": "stdout",
     "output_type": "stream",
     "text": [
      "log_loss_g = 2.537597184278527 , log_loss_d = 0.2723757467251651\n"
     ]
    },
    {
     "name": "stderr",
     "output_type": "stream",
     "text": [
      "100% 98/98 [00:05<00:00, 16.50it/s]\n"
     ]
    },
    {
     "name": "stdout",
     "output_type": "stream",
     "text": [
      "log_loss_g = 2.4753966440959854 , log_loss_d = 0.353693635944201\n"
     ]
    },
    {
     "name": "stderr",
     "output_type": "stream",
     "text": [
      "100% 98/98 [00:05<00:00, 16.38it/s]\n"
     ]
    },
    {
     "name": "stdout",
     "output_type": "stream",
     "text": [
      "log_loss_g = 2.3699768593116683 , log_loss_d = 0.42026333921417897\n"
     ]
    },
    {
     "name": "stderr",
     "output_type": "stream",
     "text": [
      "100% 98/98 [00:05<00:00, 16.63it/s]\n"
     ]
    },
    {
     "name": "stdout",
     "output_type": "stream",
     "text": [
      "log_loss_g = 2.513664854120235 , log_loss_d = 0.36411547288298607\n"
     ]
    },
    {
     "name": "stderr",
     "output_type": "stream",
     "text": [
      "100% 98/98 [00:06<00:00, 16.30it/s]\n"
     ]
    },
    {
     "name": "stdout",
     "output_type": "stream",
     "text": [
      "log_loss_g = 2.29153544987951 , log_loss_d = 0.5343112614081831\n"
     ]
    },
    {
     "name": "stderr",
     "output_type": "stream",
     "text": [
      "100% 98/98 [00:05<00:00, 16.46it/s]\n"
     ]
    },
    {
     "name": "stdout",
     "output_type": "stream",
     "text": [
      "log_loss_g = 2.636894400022468 , log_loss_d = 0.23070445086578933\n"
     ]
    },
    {
     "name": "stderr",
     "output_type": "stream",
     "text": [
      "100% 98/98 [00:05<00:00, 16.46it/s]\n"
     ]
    },
    {
     "name": "stdout",
     "output_type": "stream",
     "text": [
      "log_loss_g = 2.348857046998277 , log_loss_d = 0.6318051174130975\n"
     ]
    },
    {
     "name": "stderr",
     "output_type": "stream",
     "text": [
      "100% 98/98 [00:05<00:00, 16.54it/s]\n"
     ]
    },
    {
     "name": "stdout",
     "output_type": "stream",
     "text": [
      "log_loss_g = 2.3206017388373006 , log_loss_d = 0.3806583061814308\n"
     ]
    },
    {
     "name": "stderr",
     "output_type": "stream",
     "text": [
      "100% 98/98 [00:05<00:00, 16.49it/s]\n"
     ]
    },
    {
     "name": "stdout",
     "output_type": "stream",
     "text": [
      "log_loss_g = 2.5487299105342553 , log_loss_d = 0.2956886145153216\n"
     ]
    },
    {
     "name": "stderr",
     "output_type": "stream",
     "text": [
      "100% 98/98 [00:05<00:00, 16.71it/s]\n"
     ]
    },
    {
     "name": "stdout",
     "output_type": "stream",
     "text": [
      "log_loss_g = 2.641716688263173 , log_loss_d = 0.2580887783242732\n"
     ]
    },
    {
     "name": "stderr",
     "output_type": "stream",
     "text": [
      "100% 98/98 [00:05<00:00, 16.46it/s]\n"
     ]
    },
    {
     "name": "stdout",
     "output_type": "stream",
     "text": [
      "log_loss_g = 2.295821603311568 , log_loss_d = 0.5926126174780787\n"
     ]
    },
    {
     "name": "stderr",
     "output_type": "stream",
     "text": [
      "100% 98/98 [00:05<00:00, 16.36it/s]\n"
     ]
    },
    {
     "name": "stdout",
     "output_type": "stream",
     "text": [
      "log_loss_g = 2.4647910245219053 , log_loss_d = 0.39492522134464614\n"
     ]
    },
    {
     "name": "stderr",
     "output_type": "stream",
     "text": [
      "100% 98/98 [00:05<00:00, 16.50it/s]\n"
     ]
    },
    {
     "name": "stdout",
     "output_type": "stream",
     "text": [
      "log_loss_g = 2.3794951904184964 , log_loss_d = 0.4199837154271651\n"
     ]
    },
    {
     "name": "stderr",
     "output_type": "stream",
     "text": [
      "100% 98/98 [00:05<00:00, 16.60it/s]\n"
     ]
    },
    {
     "name": "stdout",
     "output_type": "stream",
     "text": [
      "log_loss_g = 2.605512241927945 , log_loss_d = 0.26302642991044084\n"
     ]
    },
    {
     "name": "stderr",
     "output_type": "stream",
     "text": [
      "100% 98/98 [00:05<00:00, 16.42it/s]\n"
     ]
    },
    {
     "name": "stdout",
     "output_type": "stream",
     "text": [
      "log_loss_g = 2.464492785383244 , log_loss_d = 0.4140383986642166\n"
     ]
    },
    {
     "name": "stderr",
     "output_type": "stream",
     "text": [
      "100% 98/98 [00:05<00:00, 16.58it/s]\n"
     ]
    },
    {
     "name": "stdout",
     "output_type": "stream",
     "text": [
      "log_loss_g = 2.3381930443705343 , log_loss_d = 0.5304293901640542\n"
     ]
    },
    {
     "name": "stderr",
     "output_type": "stream",
     "text": [
      "100% 98/98 [00:05<00:00, 16.61it/s]\n"
     ]
    },
    {
     "name": "stdout",
     "output_type": "stream",
     "text": [
      "log_loss_g = 2.655557106952278 , log_loss_d = 0.2276465743019873\n"
     ]
    },
    {
     "name": "stderr",
     "output_type": "stream",
     "text": [
      "100% 98/98 [00:05<00:00, 16.43it/s]\n"
     ]
    },
    {
     "name": "stdout",
     "output_type": "stream",
     "text": [
      "log_loss_g = 2.4595452722694193 , log_loss_d = 0.5484344988149039\n"
     ]
    },
    {
     "name": "stderr",
     "output_type": "stream",
     "text": [
      "100% 98/98 [00:05<00:00, 16.54it/s]\n"
     ]
    },
    {
     "name": "stdout",
     "output_type": "stream",
     "text": [
      "log_loss_g = 2.5011770615772324 , log_loss_d = 0.3048856828589829\n"
     ]
    },
    {
     "name": "stderr",
     "output_type": "stream",
     "text": [
      "100% 98/98 [00:05<00:00, 16.63it/s]\n"
     ]
    },
    {
     "name": "stdout",
     "output_type": "stream",
     "text": [
      "log_loss_g = 2.6059000011609523 , log_loss_d = 0.33375690117174267\n"
     ]
    },
    {
     "name": "stderr",
     "output_type": "stream",
     "text": [
      "100% 98/98 [00:05<00:00, 16.43it/s]\n"
     ]
    },
    {
     "name": "stdout",
     "output_type": "stream",
     "text": [
      "log_loss_g = 2.517522580465492 , log_loss_d = 0.39398259319821183\n"
     ]
    },
    {
     "name": "stderr",
     "output_type": "stream",
     "text": [
      "100% 98/98 [00:06<00:00, 16.24it/s]\n"
     ]
    },
    {
     "name": "stdout",
     "output_type": "stream",
     "text": [
      "log_loss_g = 2.664391413635137 , log_loss_d = 0.29098292288123345\n"
     ]
    },
    {
     "name": "stderr",
     "output_type": "stream",
     "text": [
      "100% 98/98 [00:06<00:00, 16.31it/s]\n"
     ]
    },
    {
     "name": "stdout",
     "output_type": "stream",
     "text": [
      "log_loss_g = 2.522067677305669 , log_loss_d = 0.38881535706471426\n"
     ]
    },
    {
     "name": "stderr",
     "output_type": "stream",
     "text": [
      "100% 98/98 [00:06<00:00, 16.23it/s]\n"
     ]
    },
    {
     "name": "stdout",
     "output_type": "stream",
     "text": [
      "log_loss_g = 2.736762843569931 , log_loss_d = 0.24377346510181622\n"
     ]
    },
    {
     "name": "stderr",
     "output_type": "stream",
     "text": [
      "100% 98/98 [00:06<00:00, 16.25it/s]\n"
     ]
    },
    {
     "name": "stdout",
     "output_type": "stream",
     "text": [
      "log_loss_g = 2.5268060875182248 , log_loss_d = 0.45461821730951874\n"
     ]
    },
    {
     "name": "stderr",
     "output_type": "stream",
     "text": [
      "100% 98/98 [00:06<00:00, 16.27it/s]\n"
     ]
    },
    {
     "name": "stdout",
     "output_type": "stream",
     "text": [
      "log_loss_g = 2.4876657791283665 , log_loss_d = 0.4130809419617361\n"
     ]
    },
    {
     "name": "stderr",
     "output_type": "stream",
     "text": [
      "100% 98/98 [00:06<00:00, 16.17it/s]\n"
     ]
    },
    {
     "name": "stdout",
     "output_type": "stream",
     "text": [
      "log_loss_g = 2.649441933069302 , log_loss_d = 0.3299060605314313\n"
     ]
    },
    {
     "name": "stderr",
     "output_type": "stream",
     "text": [
      "100% 98/98 [00:06<00:00, 16.22it/s]\n"
     ]
    },
    {
     "name": "stdout",
     "output_type": "stream",
     "text": [
      "log_loss_g = 2.6546144074931437 , log_loss_d = 0.356284209584095\n"
     ]
    },
    {
     "name": "stderr",
     "output_type": "stream",
     "text": [
      "100% 98/98 [00:06<00:00, 16.10it/s]\n"
     ]
    },
    {
     "name": "stdout",
     "output_type": "stream",
     "text": [
      "log_loss_g = 2.567056562219347 , log_loss_d = 0.3539788768607743\n"
     ]
    },
    {
     "name": "stderr",
     "output_type": "stream",
     "text": [
      "100% 98/98 [00:06<00:00, 16.29it/s]\n"
     ]
    },
    {
     "name": "stdout",
     "output_type": "stream",
     "text": [
      "log_loss_g = 2.44458253468786 , log_loss_d = 0.459849906515102\n"
     ]
    },
    {
     "name": "stderr",
     "output_type": "stream",
     "text": [
      "100% 98/98 [00:06<00:00, 16.31it/s]\n"
     ]
    },
    {
     "name": "stdout",
     "output_type": "stream",
     "text": [
      "log_loss_g = 2.746917236824425 , log_loss_d = 0.22225198947957583\n"
     ]
    },
    {
     "name": "stderr",
     "output_type": "stream",
     "text": [
      "100% 98/98 [00:05<00:00, 16.43it/s]\n"
     ]
    },
    {
     "name": "stdout",
     "output_type": "stream",
     "text": [
      "log_loss_g = 2.6659887268835183 , log_loss_d = 0.3490581114073189\n"
     ]
    },
    {
     "name": "stderr",
     "output_type": "stream",
     "text": [
      "100% 98/98 [00:05<00:00, 16.52it/s]\n"
     ]
    },
    {
     "name": "stdout",
     "output_type": "stream",
     "text": [
      "log_loss_g = 2.7342271512868455 , log_loss_d = 0.2511444998791023\n"
     ]
    },
    {
     "name": "stderr",
     "output_type": "stream",
     "text": [
      "100% 98/98 [00:05<00:00, 16.40it/s]\n"
     ]
    },
    {
     "name": "stdout",
     "output_type": "stream",
     "text": [
      "log_loss_g = 2.6270364425620256 , log_loss_d = 0.4302066014129288\n"
     ]
    },
    {
     "name": "stderr",
     "output_type": "stream",
     "text": [
      "100% 98/98 [00:05<00:00, 16.34it/s]\n"
     ]
    },
    {
     "name": "stdout",
     "output_type": "stream",
     "text": [
      "log_loss_g = 2.4676677198434365 , log_loss_d = 0.3626441633214756\n"
     ]
    },
    {
     "name": "stderr",
     "output_type": "stream",
     "text": [
      "100% 98/98 [00:05<00:00, 16.45it/s]\n"
     ]
    },
    {
     "name": "stdout",
     "output_type": "stream",
     "text": [
      "log_loss_g = 2.6732851260778854 , log_loss_d = 0.3225977978840166\n"
     ]
    },
    {
     "name": "stderr",
     "output_type": "stream",
     "text": [
      "100% 98/98 [00:05<00:00, 16.42it/s]\n"
     ]
    },
    {
     "name": "stdout",
     "output_type": "stream",
     "text": [
      "log_loss_g = 2.858333655461973 , log_loss_d = 0.20665016793170754\n"
     ]
    },
    {
     "name": "stderr",
     "output_type": "stream",
     "text": [
      "100% 98/98 [00:05<00:00, 16.44it/s]\n"
     ]
    },
    {
     "name": "stdout",
     "output_type": "stream",
     "text": [
      "log_loss_g = 2.4819445430624243 , log_loss_d = 0.4712985962325213\n"
     ]
    },
    {
     "name": "stderr",
     "output_type": "stream",
     "text": [
      "100% 98/98 [00:06<00:00, 16.26it/s]\n"
     ]
    },
    {
     "name": "stdout",
     "output_type": "stream",
     "text": [
      "log_loss_g = 2.871507953624336 , log_loss_d = 0.19731327708886595\n"
     ]
    },
    {
     "name": "stderr",
     "output_type": "stream",
     "text": [
      "100% 98/98 [00:06<00:00, 16.18it/s]\n"
     ]
    },
    {
     "name": "stdout",
     "output_type": "stream",
     "text": [
      "log_loss_g = 2.5075535847216237 , log_loss_d = 0.5225192351760913\n"
     ]
    },
    {
     "name": "stderr",
     "output_type": "stream",
     "text": [
      "100% 98/98 [00:06<00:00, 16.26it/s]\n"
     ]
    },
    {
     "name": "stdout",
     "output_type": "stream",
     "text": [
      "log_loss_g = 2.776983403429693 , log_loss_d = 0.23030508248781673\n"
     ]
    },
    {
     "name": "stderr",
     "output_type": "stream",
     "text": [
      "100% 98/98 [00:06<00:00, 16.33it/s]\n"
     ]
    },
    {
     "name": "stdout",
     "output_type": "stream",
     "text": [
      "log_loss_g = 2.841037852423532 , log_loss_d = 0.22393638686257966\n"
     ]
    },
    {
     "name": "stderr",
     "output_type": "stream",
     "text": [
      "100% 98/98 [00:05<00:00, 16.46it/s]\n"
     ]
    },
    {
     "name": "stdout",
     "output_type": "stream",
     "text": [
      "log_loss_g = 2.4987810731542353 , log_loss_d = 0.5283600098776574\n"
     ]
    },
    {
     "name": "stderr",
     "output_type": "stream",
     "text": [
      "100% 98/98 [00:05<00:00, 16.38it/s]\n"
     ]
    },
    {
     "name": "stdout",
     "output_type": "stream",
     "text": [
      "log_loss_g = 2.80239067150622 , log_loss_d = 0.21831376835399743\n"
     ]
    },
    {
     "name": "stderr",
     "output_type": "stream",
     "text": [
      "100% 98/98 [00:06<00:00, 16.30it/s]\n"
     ]
    },
    {
     "name": "stdout",
     "output_type": "stream",
     "text": [
      "log_loss_g = 2.8279380080651264 , log_loss_d = 0.27173938708645956\n"
     ]
    },
    {
     "name": "stderr",
     "output_type": "stream",
     "text": [
      "100% 98/98 [00:05<00:00, 16.38it/s]\n"
     ]
    },
    {
     "name": "stdout",
     "output_type": "stream",
     "text": [
      "log_loss_g = 2.5580902339852587 , log_loss_d = 0.41471387027781836\n"
     ]
    },
    {
     "name": "stderr",
     "output_type": "stream",
     "text": [
      "100% 98/98 [00:06<00:00, 16.32it/s]\n"
     ]
    },
    {
     "name": "stdout",
     "output_type": "stream",
     "text": [
      "log_loss_g = 2.872988001424439 , log_loss_d = 0.1892627617534326\n"
     ]
    },
    {
     "name": "stderr",
     "output_type": "stream",
     "text": [
      "100% 98/98 [00:05<00:00, 16.35it/s]\n"
     ]
    },
    {
     "name": "stdout",
     "output_type": "stream",
     "text": [
      "log_loss_g = 2.6908766311042163 , log_loss_d = 0.39151223368790683\n"
     ]
    },
    {
     "name": "stderr",
     "output_type": "stream",
     "text": [
      "100% 98/98 [00:05<00:00, 16.39it/s]\n"
     ]
    },
    {
     "name": "stdout",
     "output_type": "stream",
     "text": [
      "log_loss_g = 2.3761858365365436 , log_loss_d = 0.5583198785933913\n"
     ]
    },
    {
     "name": "stderr",
     "output_type": "stream",
     "text": [
      "100% 98/98 [00:06<00:00, 16.33it/s]\n"
     ]
    },
    {
     "name": "stdout",
     "output_type": "stream",
     "text": [
      "log_loss_g = 2.71001474498486 , log_loss_d = 0.35828935366351994\n"
     ]
    },
    {
     "name": "stderr",
     "output_type": "stream",
     "text": [
      "100% 98/98 [00:05<00:00, 16.50it/s]\n"
     ]
    },
    {
     "name": "stdout",
     "output_type": "stream",
     "text": [
      "log_loss_g = 2.634939108271988 , log_loss_d = 0.2999550453102102\n"
     ]
    },
    {
     "name": "stderr",
     "output_type": "stream",
     "text": [
      "100% 98/98 [00:05<00:00, 16.57it/s]\n"
     ]
    },
    {
     "name": "stdout",
     "output_type": "stream",
     "text": [
      "log_loss_g = 2.838648245650895 , log_loss_d = 0.2586413602895883\n"
     ]
    },
    {
     "name": "stderr",
     "output_type": "stream",
     "text": [
      "100% 98/98 [00:05<00:00, 16.45it/s]\n"
     ]
    },
    {
     "name": "stdout",
     "output_type": "stream",
     "text": [
      "log_loss_g = 2.7263276497928466 , log_loss_d = 0.39249363526397824\n"
     ]
    },
    {
     "name": "stderr",
     "output_type": "stream",
     "text": [
      "100% 98/98 [00:05<00:00, 16.39it/s]\n"
     ]
    },
    {
     "name": "stdout",
     "output_type": "stream",
     "text": [
      "log_loss_g = 2.7392826749353993 , log_loss_d = 0.3287596478298002\n"
     ]
    },
    {
     "name": "stderr",
     "output_type": "stream",
     "text": [
      "100% 98/98 [00:05<00:00, 16.52it/s]\n"
     ]
    },
    {
     "name": "stdout",
     "output_type": "stream",
     "text": [
      "log_loss_g = 2.7628219002971846 , log_loss_d = 0.3535616373149108\n"
     ]
    },
    {
     "name": "stderr",
     "output_type": "stream",
     "text": [
      "100% 98/98 [00:05<00:00, 16.44it/s]\n"
     ]
    },
    {
     "name": "stdout",
     "output_type": "stream",
     "text": [
      "log_loss_g = 2.686958204118573 , log_loss_d = 0.34505144902029816\n"
     ]
    },
    {
     "name": "stderr",
     "output_type": "stream",
     "text": [
      "100% 98/98 [00:05<00:00, 16.38it/s]\n"
     ]
    },
    {
     "name": "stdout",
     "output_type": "stream",
     "text": [
      "log_loss_g = 2.8652099559501725 , log_loss_d = 0.22579563553540075\n"
     ]
    },
    {
     "name": "stderr",
     "output_type": "stream",
     "text": [
      "100% 98/98 [00:05<00:00, 16.43it/s]\n"
     ]
    },
    {
     "name": "stdout",
     "output_type": "stream",
     "text": [
      "log_loss_g = 2.9727026345778484 , log_loss_d = 0.19539499218214532\n"
     ]
    },
    {
     "name": "stderr",
     "output_type": "stream",
     "text": [
      "100% 98/98 [00:05<00:00, 16.48it/s]\n"
     ]
    },
    {
     "name": "stdout",
     "output_type": "stream",
     "text": [
      "log_loss_g = 2.760598456981231 , log_loss_d = 0.41912027604269736\n"
     ]
    },
    {
     "name": "stderr",
     "output_type": "stream",
     "text": [
      "100% 98/98 [00:05<00:00, 16.45it/s]\n"
     ]
    },
    {
     "name": "stdout",
     "output_type": "stream",
     "text": [
      "log_loss_g = 2.76135231828203 , log_loss_d = 0.3480945671243327\n"
     ]
    },
    {
     "name": "stderr",
     "output_type": "stream",
     "text": [
      "100% 98/98 [00:05<00:00, 16.49it/s]\n"
     ]
    },
    {
     "name": "stdout",
     "output_type": "stream",
     "text": [
      "log_loss_g = 2.661201639519054 , log_loss_d = 0.46040801909201\n"
     ]
    },
    {
     "name": "stderr",
     "output_type": "stream",
     "text": [
      "100% 98/98 [00:06<00:00, 16.13it/s]\n"
     ]
    },
    {
     "name": "stdout",
     "output_type": "stream",
     "text": [
      "log_loss_g = 2.957781515559372 , log_loss_d = 0.19084543392670397\n"
     ]
    },
    {
     "name": "stderr",
     "output_type": "stream",
     "text": [
      "100% 98/98 [00:05<00:00, 16.58it/s]\n"
     ]
    },
    {
     "name": "stdout",
     "output_type": "stream",
     "text": [
      "log_loss_g = 2.6379380379708444 , log_loss_d = 0.44404955489598974\n"
     ]
    },
    {
     "name": "stderr",
     "output_type": "stream",
     "text": [
      "100% 98/98 [00:05<00:00, 16.51it/s]\n"
     ]
    },
    {
     "name": "stdout",
     "output_type": "stream",
     "text": [
      "log_loss_g = 2.8226740877239074 , log_loss_d = 0.3104850336605189\n"
     ]
    },
    {
     "name": "stderr",
     "output_type": "stream",
     "text": [
      "100% 98/98 [00:05<00:00, 16.53it/s]\n"
     ]
    },
    {
     "name": "stdout",
     "output_type": "stream",
     "text": [
      "log_loss_g = 3.019110695439942 , log_loss_d = 0.1907319158163606\n"
     ]
    },
    {
     "name": "stderr",
     "output_type": "stream",
     "text": [
      "100% 98/98 [00:05<00:00, 16.44it/s]\n"
     ]
    },
    {
     "name": "stdout",
     "output_type": "stream",
     "text": [
      "log_loss_g = 2.697140999594513 , log_loss_d = 0.5540814647565082\n"
     ]
    },
    {
     "name": "stderr",
     "output_type": "stream",
     "text": [
      "100% 98/98 [00:05<00:00, 16.54it/s]\n"
     ]
    },
    {
     "name": "stdout",
     "output_type": "stream",
     "text": [
      "log_loss_g = 2.82706206063835 , log_loss_d = 0.2243512506235619\n"
     ]
    },
    {
     "name": "stderr",
     "output_type": "stream",
     "text": [
      "100% 98/98 [00:05<00:00, 16.44it/s]\n"
     ]
    },
    {
     "name": "stdout",
     "output_type": "stream",
     "text": [
      "log_loss_g = 2.7408116338204365 , log_loss_d = 0.392039845868641\n"
     ]
    },
    {
     "name": "stderr",
     "output_type": "stream",
     "text": [
      "100% 98/98 [00:05<00:00, 16.42it/s]\n"
     ]
    },
    {
     "name": "stdout",
     "output_type": "stream",
     "text": [
      "log_loss_g = 2.8749001679980024 , log_loss_d = 0.33910444051939614\n"
     ]
    },
    {
     "name": "stderr",
     "output_type": "stream",
     "text": [
      "100% 98/98 [00:05<00:00, 16.43it/s]\n"
     ]
    },
    {
     "name": "stdout",
     "output_type": "stream",
     "text": [
      "log_loss_g = 3.0056101801444073 , log_loss_d = 0.1781592777340996\n"
     ]
    },
    {
     "name": "stderr",
     "output_type": "stream",
     "text": [
      "100% 98/98 [00:05<00:00, 16.41it/s]\n"
     ]
    },
    {
     "name": "stdout",
     "output_type": "stream",
     "text": [
      "log_loss_g = 2.707285560515462 , log_loss_d = 0.42908491239864\n"
     ]
    },
    {
     "name": "stderr",
     "output_type": "stream",
     "text": [
      "100% 98/98 [00:05<00:00, 16.38it/s]\n"
     ]
    },
    {
     "name": "stdout",
     "output_type": "stream",
     "text": [
      "log_loss_g = 3.0117022711403516 , log_loss_d = 0.16939289613189745\n"
     ]
    },
    {
     "name": "stderr",
     "output_type": "stream",
     "text": [
      "100% 98/98 [00:06<00:00, 16.31it/s]\n"
     ]
    },
    {
     "name": "stdout",
     "output_type": "stream",
     "text": [
      "log_loss_g = 2.901269438315411 , log_loss_d = 0.3676656037569046\n"
     ]
    },
    {
     "name": "stderr",
     "output_type": "stream",
     "text": [
      "100% 98/98 [00:06<00:00, 16.25it/s]\n"
     ]
    },
    {
     "name": "stdout",
     "output_type": "stream",
     "text": [
      "log_loss_g = 2.709076851302264 , log_loss_d = 0.5302675116275039\n"
     ]
    },
    {
     "name": "stderr",
     "output_type": "stream",
     "text": [
      "100% 98/98 [00:06<00:00, 16.26it/s]\n"
     ]
    },
    {
     "name": "stdout",
     "output_type": "stream",
     "text": [
      "log_loss_g = 2.712736959664189 , log_loss_d = 0.29509535903225137\n"
     ]
    },
    {
     "name": "stderr",
     "output_type": "stream",
     "text": [
      "100% 98/98 [00:06<00:00, 16.31it/s]\n"
     ]
    },
    {
     "name": "stdout",
     "output_type": "stream",
     "text": [
      "log_loss_g = 3.097456641343175 , log_loss_d = 0.157556951958306\n"
     ]
    },
    {
     "name": "stderr",
     "output_type": "stream",
     "text": [
      "100% 98/98 [00:05<00:00, 16.37it/s]\n"
     ]
    },
    {
     "name": "stdout",
     "output_type": "stream",
     "text": [
      "log_loss_g = 2.7871446864945546 , log_loss_d = 0.43913490712946773\n"
     ]
    },
    {
     "name": "stderr",
     "output_type": "stream",
     "text": [
      "100% 98/98 [00:06<00:00, 16.32it/s]\n"
     ]
    },
    {
     "name": "stdout",
     "output_type": "stream",
     "text": [
      "log_loss_g = 2.5876326463660417 , log_loss_d = 0.5126151650079659\n"
     ]
    },
    {
     "name": "stderr",
     "output_type": "stream",
     "text": [
      "100% 98/98 [00:06<00:00, 16.33it/s]\n"
     ]
    },
    {
     "name": "stdout",
     "output_type": "stream",
     "text": [
      "log_loss_g = 3.0187545370082467 , log_loss_d = 0.1636602366913338\n"
     ]
    },
    {
     "name": "stderr",
     "output_type": "stream",
     "text": [
      "100% 98/98 [00:05<00:00, 16.38it/s]\n"
     ]
    },
    {
     "name": "stdout",
     "output_type": "stream",
     "text": [
      "log_loss_g = 2.9142169411845353 , log_loss_d = 0.358568491110084\n"
     ]
    },
    {
     "name": "stderr",
     "output_type": "stream",
     "text": [
      "100% 98/98 [00:05<00:00, 16.44it/s]\n"
     ]
    },
    {
     "name": "stdout",
     "output_type": "stream",
     "text": [
      "log_loss_g = 2.837375925055572 , log_loss_d = 0.34414221468020456\n"
     ]
    },
    {
     "name": "stderr",
     "output_type": "stream",
     "text": [
      "100% 98/98 [00:05<00:00, 16.38it/s]\n"
     ]
    },
    {
     "name": "stdout",
     "output_type": "stream",
     "text": [
      "log_loss_g = 2.803439678282154 , log_loss_d = 0.30496111238489343\n"
     ]
    },
    {
     "name": "stderr",
     "output_type": "stream",
     "text": [
      "100% 98/98 [00:05<00:00, 16.47it/s]\n"
     ]
    },
    {
     "name": "stdout",
     "output_type": "stream",
     "text": [
      "log_loss_g = 3.177020253575578 , log_loss_d = 0.16125537968259684\n"
     ]
    },
    {
     "name": "stderr",
     "output_type": "stream",
     "text": [
      "100% 98/98 [00:05<00:00, 16.47it/s]\n"
     ]
    },
    {
     "name": "stdout",
     "output_type": "stream",
     "text": [
      "log_loss_g = 2.7303555574344127 , log_loss_d = 0.47270318880981327\n"
     ]
    },
    {
     "name": "stderr",
     "output_type": "stream",
     "text": [
      "100% 98/98 [00:05<00:00, 16.39it/s]\n"
     ]
    },
    {
     "name": "stdout",
     "output_type": "stream",
     "text": [
      "log_loss_g = 2.9485201981602884 , log_loss_d = 0.1873219560603706\n"
     ]
    },
    {
     "name": "stderr",
     "output_type": "stream",
     "text": [
      "100% 98/98 [00:05<00:00, 16.34it/s]\n"
     ]
    },
    {
     "name": "stdout",
     "output_type": "stream",
     "text": [
      "log_loss_g = 3.065095823638293 , log_loss_d = 0.22046574965423468\n"
     ]
    },
    {
     "name": "stderr",
     "output_type": "stream",
     "text": [
      "100% 98/98 [00:05<00:00, 16.35it/s]\n"
     ]
    },
    {
     "name": "stdout",
     "output_type": "stream",
     "text": [
      "log_loss_g = 2.630367872362234 , log_loss_d = 0.47925266258570615\n"
     ]
    },
    {
     "name": "stderr",
     "output_type": "stream",
     "text": [
      "100% 98/98 [00:05<00:00, 16.38it/s]\n"
     ]
    },
    {
     "name": "stdout",
     "output_type": "stream",
     "text": [
      "log_loss_g = 3.0838602428533592 , log_loss_d = 0.16849679708936993\n"
     ]
    },
    {
     "name": "stderr",
     "output_type": "stream",
     "text": [
      "100% 98/98 [00:05<00:00, 16.43it/s]\n"
     ]
    },
    {
     "name": "stdout",
     "output_type": "stream",
     "text": [
      "log_loss_g = 2.800178682773697 , log_loss_d = 0.3627217809612654\n"
     ]
    },
    {
     "name": "stderr",
     "output_type": "stream",
     "text": [
      "100% 98/98 [00:05<00:00, 16.40it/s]\n"
     ]
    },
    {
     "name": "stdout",
     "output_type": "stream",
     "text": [
      "log_loss_g = 3.2116754736219133 , log_loss_d = 0.12918605723855447\n"
     ]
    },
    {
     "name": "stderr",
     "output_type": "stream",
     "text": [
      "100% 98/98 [00:05<00:00, 16.41it/s]\n"
     ]
    },
    {
     "name": "stdout",
     "output_type": "stream",
     "text": [
      "log_loss_g = 2.9403143561616236 , log_loss_d = 0.3042905848777416\n"
     ]
    },
    {
     "name": "stderr",
     "output_type": "stream",
     "text": [
      "100% 98/98 [00:05<00:00, 16.39it/s]\n"
     ]
    },
    {
     "name": "stdout",
     "output_type": "stream",
     "text": [
      "log_loss_g = 3.1862154651661307 , log_loss_d = 0.14920780754515103\n"
     ]
    },
    {
     "name": "stderr",
     "output_type": "stream",
     "text": [
      "100% 98/98 [00:05<00:00, 16.52it/s]\n"
     ]
    },
    {
     "name": "stdout",
     "output_type": "stream",
     "text": [
      "log_loss_g = 2.6260953136548704 , log_loss_d = 0.6242018365966422\n"
     ]
    },
    {
     "name": "stderr",
     "output_type": "stream",
     "text": [
      "100% 98/98 [00:05<00:00, 16.45it/s]\n"
     ]
    },
    {
     "name": "stdout",
     "output_type": "stream",
     "text": [
      "log_loss_g = 2.905227132597748 , log_loss_d = 0.22865179409177935\n"
     ]
    },
    {
     "name": "stderr",
     "output_type": "stream",
     "text": [
      "100% 98/98 [00:05<00:00, 16.35it/s]\n"
     ]
    },
    {
     "name": "stdout",
     "output_type": "stream",
     "text": [
      "log_loss_g = 3.0057985686830113 , log_loss_d = 0.28430055279512795\n"
     ]
    },
    {
     "name": "stderr",
     "output_type": "stream",
     "text": [
      "100% 98/98 [00:05<00:00, 16.41it/s]\n"
     ]
    },
    {
     "name": "stdout",
     "output_type": "stream",
     "text": [
      "log_loss_g = 3.087279358688666 , log_loss_d = 0.2677914384676486\n"
     ]
    },
    {
     "name": "stderr",
     "output_type": "stream",
     "text": [
      "100% 98/98 [00:06<00:00, 16.33it/s]\n"
     ]
    },
    {
     "name": "stdout",
     "output_type": "stream",
     "text": [
      "log_loss_g = 3.0695862399072062 , log_loss_d = 0.18797090927100912\n"
     ]
    },
    {
     "name": "stderr",
     "output_type": "stream",
     "text": [
      "100% 98/98 [00:06<00:00, 16.32it/s]\n"
     ]
    },
    {
     "name": "stdout",
     "output_type": "stream",
     "text": [
      "log_loss_g = 3.087985259233689 , log_loss_d = 0.23606112257254366\n"
     ]
    },
    {
     "name": "stderr",
     "output_type": "stream",
     "text": [
      "100% 98/98 [00:06<00:00, 16.28it/s]\n"
     ]
    },
    {
     "name": "stdout",
     "output_type": "stream",
     "text": [
      "log_loss_g = 2.8038344231187082 , log_loss_d = 0.4612658366712989\n"
     ]
    },
    {
     "name": "stderr",
     "output_type": "stream",
     "text": [
      "100% 98/98 [00:05<00:00, 16.46it/s]\n"
     ]
    },
    {
     "name": "stdout",
     "output_type": "stream",
     "text": [
      "log_loss_g = 2.865536943990357 , log_loss_d = 0.2777752452434934\n"
     ]
    },
    {
     "name": "stderr",
     "output_type": "stream",
     "text": [
      "100% 98/98 [00:05<00:00, 16.41it/s]\n"
     ]
    },
    {
     "name": "stdout",
     "output_type": "stream",
     "text": [
      "log_loss_g = 3.1630388644276834 , log_loss_d = 0.16270387142288442\n"
     ]
    },
    {
     "name": "stderr",
     "output_type": "stream",
     "text": [
      "100% 98/98 [00:06<00:00, 16.23it/s]\n"
     ]
    },
    {
     "name": "stdout",
     "output_type": "stream",
     "text": [
      "log_loss_g = 2.8029275639932982 , log_loss_d = 0.4344687916870628\n"
     ]
    },
    {
     "name": "stderr",
     "output_type": "stream",
     "text": [
      "100% 98/98 [00:05<00:00, 16.34it/s]\n"
     ]
    },
    {
     "name": "stdout",
     "output_type": "stream",
     "text": [
      "log_loss_g = 3.059297862709785 , log_loss_d = 0.2158350277768106\n"
     ]
    },
    {
     "name": "stderr",
     "output_type": "stream",
     "text": [
      "100% 98/98 [00:05<00:00, 16.41it/s]\n"
     ]
    },
    {
     "name": "stdout",
     "output_type": "stream",
     "text": [
      "log_loss_g = 2.966852076655748 , log_loss_d = 0.32124401556746085\n"
     ]
    },
    {
     "name": "stderr",
     "output_type": "stream",
     "text": [
      "100% 98/98 [00:05<00:00, 16.38it/s]\n"
     ]
    },
    {
     "name": "stdout",
     "output_type": "stream",
     "text": [
      "log_loss_g = 3.187588104179927 , log_loss_d = 0.18513316562285229\n"
     ]
    },
    {
     "name": "stderr",
     "output_type": "stream",
     "text": [
      "100% 98/98 [00:05<00:00, 16.38it/s]\n"
     ]
    },
    {
     "name": "stdout",
     "output_type": "stream",
     "text": [
      "log_loss_g = 3.017447168273585 , log_loss_d = 0.2853846687595455\n"
     ]
    },
    {
     "name": "stderr",
     "output_type": "stream",
     "text": [
      "100% 98/98 [00:06<00:00, 16.22it/s]\n"
     ]
    },
    {
     "name": "stdout",
     "output_type": "stream",
     "text": [
      "log_loss_g = 2.8373897171826385 , log_loss_d = 0.5173037797212601\n"
     ]
    },
    {
     "name": "stderr",
     "output_type": "stream",
     "text": [
      "100% 98/98 [00:06<00:00, 16.30it/s]\n"
     ]
    },
    {
     "name": "stdout",
     "output_type": "stream",
     "text": [
      "log_loss_g = 2.9418476625364653 , log_loss_d = 0.1737674410854067\n"
     ]
    },
    {
     "name": "stderr",
     "output_type": "stream",
     "text": [
      "100% 98/98 [00:05<00:00, 16.38it/s]\n"
     ]
    },
    {
     "name": "stdout",
     "output_type": "stream",
     "text": [
      "log_loss_g = 3.0584952937705174 , log_loss_d = 0.34460325565721306\n"
     ]
    },
    {
     "name": "stderr",
     "output_type": "stream",
     "text": [
      "100% 98/98 [00:05<00:00, 16.44it/s]\n"
     ]
    },
    {
     "name": "stdout",
     "output_type": "stream",
     "text": [
      "log_loss_g = 2.9462894891597786 , log_loss_d = 0.24817762250194744\n"
     ]
    },
    {
     "name": "stderr",
     "output_type": "stream",
     "text": [
      "100% 98/98 [00:05<00:00, 16.44it/s]\n"
     ]
    },
    {
     "name": "stdout",
     "output_type": "stream",
     "text": [
      "log_loss_g = 3.0494580354009355 , log_loss_d = 0.2563985187788399\n"
     ]
    },
    {
     "name": "stderr",
     "output_type": "stream",
     "text": [
      "100% 98/98 [00:05<00:00, 16.43it/s]\n"
     ]
    },
    {
     "name": "stdout",
     "output_type": "stream",
     "text": [
      "log_loss_g = 3.1160773878194847 , log_loss_d = 0.20142171528114347\n"
     ]
    },
    {
     "name": "stderr",
     "output_type": "stream",
     "text": [
      "100% 98/98 [00:05<00:00, 16.45it/s]\n"
     ]
    },
    {
     "name": "stdout",
     "output_type": "stream",
     "text": [
      "log_loss_g = 2.8851468912800966 , log_loss_d = 0.4350848652574481\n"
     ]
    },
    {
     "name": "stderr",
     "output_type": "stream",
     "text": [
      "100% 98/98 [00:06<00:00, 16.32it/s]\n"
     ]
    },
    {
     "name": "stdout",
     "output_type": "stream",
     "text": [
      "log_loss_g = 2.993084036650098 , log_loss_d = 0.29560941708635313\n"
     ]
    },
    {
     "name": "stderr",
     "output_type": "stream",
     "text": [
      "100% 98/98 [00:05<00:00, 16.42it/s]\n"
     ]
    },
    {
     "name": "stdout",
     "output_type": "stream",
     "text": [
      "log_loss_g = 2.8143975026145274 , log_loss_d = 0.46245977605636024\n"
     ]
    },
    {
     "name": "stderr",
     "output_type": "stream",
     "text": [
      "100% 98/98 [00:05<00:00, 16.46it/s]\n"
     ]
    },
    {
     "name": "stdout",
     "output_type": "stream",
     "text": [
      "log_loss_g = 2.9982130754054808 , log_loss_d = 0.28596165966318576\n"
     ]
    },
    {
     "name": "stderr",
     "output_type": "stream",
     "text": [
      "100% 98/98 [00:06<00:00, 16.22it/s]\n"
     ]
    },
    {
     "name": "stdout",
     "output_type": "stream",
     "text": [
      "log_loss_g = 3.1807530242569593 , log_loss_d = 0.1446172942464449\n"
     ]
    },
    {
     "name": "stderr",
     "output_type": "stream",
     "text": [
      "100% 98/98 [00:05<00:00, 16.36it/s]\n"
     ]
    },
    {
     "name": "stdout",
     "output_type": "stream",
     "text": [
      "log_loss_g = 2.771014611331784 , log_loss_d = 0.47762365920507177\n"
     ]
    },
    {
     "name": "stderr",
     "output_type": "stream",
     "text": [
      "100% 98/98 [00:05<00:00, 16.47it/s]\n"
     ]
    },
    {
     "name": "stdout",
     "output_type": "stream",
     "text": [
      "log_loss_g = 3.1797708929801476 , log_loss_d = 0.14091179744169421\n"
     ]
    },
    {
     "name": "stderr",
     "output_type": "stream",
     "text": [
      "100% 98/98 [00:05<00:00, 16.54it/s]\n"
     ]
    },
    {
     "name": "stdout",
     "output_type": "stream",
     "text": [
      "log_loss_g = 3.2453035450711543 , log_loss_d = 0.20822761013951838\n"
     ]
    },
    {
     "name": "stderr",
     "output_type": "stream",
     "text": [
      "100% 98/98 [00:05<00:00, 16.51it/s]\n"
     ]
    },
    {
     "name": "stdout",
     "output_type": "stream",
     "text": [
      "log_loss_g = 3.268040653394193 , log_loss_d = 0.15656890826565878\n"
     ]
    },
    {
     "name": "stderr",
     "output_type": "stream",
     "text": [
      "100% 98/98 [00:06<00:00, 16.27it/s]\n"
     ]
    },
    {
     "name": "stdout",
     "output_type": "stream",
     "text": [
      "log_loss_g = 2.9615517103550384 , log_loss_d = 0.3696939755155116\n"
     ]
    },
    {
     "name": "stderr",
     "output_type": "stream",
     "text": [
      "100% 98/98 [00:06<00:00, 16.33it/s]\n"
     ]
    },
    {
     "name": "stdout",
     "output_type": "stream",
     "text": [
      "log_loss_g = 3.3169110672814504 , log_loss_d = 0.11632562356487829\n"
     ]
    },
    {
     "name": "stderr",
     "output_type": "stream",
     "text": [
      "100% 98/98 [00:05<00:00, 16.34it/s]\n"
     ]
    },
    {
     "name": "stdout",
     "output_type": "stream",
     "text": [
      "log_loss_g = 3.1766708847515437 , log_loss_d = 0.2740352055704107\n"
     ]
    },
    {
     "name": "stderr",
     "output_type": "stream",
     "text": [
      "100% 98/98 [00:05<00:00, 16.35it/s]\n"
     ]
    },
    {
     "name": "stdout",
     "output_type": "stream",
     "text": [
      "log_loss_g = 2.9609190069747213 , log_loss_d = 0.30311121187191836\n"
     ]
    },
    {
     "name": "stderr",
     "output_type": "stream",
     "text": [
      "100% 98/98 [00:05<00:00, 16.34it/s]\n"
     ]
    },
    {
     "name": "stdout",
     "output_type": "stream",
     "text": [
      "log_loss_g = 3.024340316045041 , log_loss_d = 0.4068324006333643\n"
     ]
    },
    {
     "name": "stderr",
     "output_type": "stream",
     "text": [
      "100% 98/98 [00:05<00:00, 16.47it/s]\n"
     ]
    },
    {
     "name": "stdout",
     "output_type": "stream",
     "text": [
      "log_loss_g = 3.121847095538159 , log_loss_d = 0.15493076864858063\n"
     ]
    },
    {
     "name": "stderr",
     "output_type": "stream",
     "text": [
      "100% 98/98 [00:06<00:00, 16.24it/s]\n"
     ]
    },
    {
     "name": "stdout",
     "output_type": "stream",
     "text": [
      "log_loss_g = 2.9857328509797854 , log_loss_d = 0.33981549086011187\n"
     ]
    },
    {
     "name": "stderr",
     "output_type": "stream",
     "text": [
      "100% 98/98 [00:05<00:00, 16.46it/s]\n"
     ]
    },
    {
     "name": "stdout",
     "output_type": "stream",
     "text": [
      "log_loss_g = 3.0545405100802987 , log_loss_d = 0.3129564606565602\n"
     ]
    },
    {
     "name": "stderr",
     "output_type": "stream",
     "text": [
      "100% 98/98 [00:05<00:00, 16.46it/s]\n"
     ]
    },
    {
     "name": "stdout",
     "output_type": "stream",
     "text": [
      "log_loss_g = 2.993030807953708 , log_loss_d = 0.2627148978336125\n"
     ]
    },
    {
     "name": "stderr",
     "output_type": "stream",
     "text": [
      "100% 98/98 [00:05<00:00, 16.48it/s]\n"
     ]
    },
    {
     "name": "stdout",
     "output_type": "stream",
     "text": [
      "log_loss_g = 3.3402977841241017 , log_loss_d = 0.13695386272608018\n"
     ]
    },
    {
     "name": "stderr",
     "output_type": "stream",
     "text": [
      "100% 98/98 [00:05<00:00, 16.43it/s]\n"
     ]
    },
    {
     "name": "stdout",
     "output_type": "stream",
     "text": [
      "log_loss_g = 1.9087449674095427 , log_loss_d = 1.1934064820180743\n"
     ]
    },
    {
     "name": "stderr",
     "output_type": "stream",
     "text": [
      "100% 98/98 [00:05<00:00, 16.35it/s]\n"
     ]
    },
    {
     "name": "stdout",
     "output_type": "stream",
     "text": [
      "log_loss_g = 2.8380141404210306 , log_loss_d = 0.20086231698491136\n"
     ]
    },
    {
     "name": "stderr",
     "output_type": "stream",
     "text": [
      "100% 98/98 [00:05<00:00, 16.41it/s]\n"
     ]
    },
    {
     "name": "stdout",
     "output_type": "stream",
     "text": [
      "log_loss_g = 3.288934909567541 , log_loss_d = 0.13774924903955996\n"
     ]
    },
    {
     "name": "stderr",
     "output_type": "stream",
     "text": [
      "100% 98/98 [00:05<00:00, 16.40it/s]\n"
     ]
    },
    {
     "name": "stdout",
     "output_type": "stream",
     "text": [
      "log_loss_g = 3.3260424362153422 , log_loss_d = 0.15936170237100855\n"
     ]
    },
    {
     "name": "stderr",
     "output_type": "stream",
     "text": [
      "100% 98/98 [00:05<00:00, 16.43it/s]\n"
     ]
    },
    {
     "name": "stdout",
     "output_type": "stream",
     "text": [
      "log_loss_g = 3.107832688306059 , log_loss_d = 0.3460810145325198\n"
     ]
    },
    {
     "name": "stderr",
     "output_type": "stream",
     "text": [
      "100% 98/98 [00:05<00:00, 16.40it/s]\n"
     ]
    },
    {
     "name": "stdout",
     "output_type": "stream",
     "text": [
      "log_loss_g = 3.0116146973201205 , log_loss_d = 0.2719377528647987\n"
     ]
    },
    {
     "name": "stderr",
     "output_type": "stream",
     "text": [
      "100% 98/98 [00:06<00:00, 16.27it/s]\n"
     ]
    },
    {
     "name": "stdout",
     "output_type": "stream",
     "text": [
      "log_loss_g = 3.1467876659364116 , log_loss_d = 0.2438327433275325\n"
     ]
    },
    {
     "name": "stderr",
     "output_type": "stream",
     "text": [
      "100% 98/98 [00:05<00:00, 16.38it/s]\n"
     ]
    },
    {
     "name": "stdout",
     "output_type": "stream",
     "text": [
      "log_loss_g = 2.944787741467661 , log_loss_d = 0.41542500531186866\n"
     ]
    },
    {
     "name": "stderr",
     "output_type": "stream",
     "text": [
      "100% 98/98 [00:06<00:00, 16.32it/s]\n"
     ]
    },
    {
     "name": "stdout",
     "output_type": "stream",
     "text": [
      "log_loss_g = 2.8977533843444316 , log_loss_d = 0.3615545069760814\n"
     ]
    },
    {
     "name": "stderr",
     "output_type": "stream",
     "text": [
      "100% 98/98 [00:05<00:00, 16.39it/s]\n"
     ]
    },
    {
     "name": "stdout",
     "output_type": "stream",
     "text": [
      "log_loss_g = 3.292984436969368 , log_loss_d = 0.15581885664438716\n"
     ]
    },
    {
     "name": "stderr",
     "output_type": "stream",
     "text": [
      "100% 98/98 [00:05<00:00, 16.41it/s]\n"
     ]
    },
    {
     "name": "stdout",
     "output_type": "stream",
     "text": [
      "log_loss_g = 3.328488051891327 , log_loss_d = 0.12939323032540934\n"
     ]
    },
    {
     "name": "stderr",
     "output_type": "stream",
     "text": [
      "100% 98/98 [00:05<00:00, 16.35it/s]\n"
     ]
    },
    {
     "name": "stdout",
     "output_type": "stream",
     "text": [
      "log_loss_g = 3.2634871407431 , log_loss_d = 0.1901825161232632\n"
     ]
    },
    {
     "name": "stderr",
     "output_type": "stream",
     "text": [
      "100% 98/98 [00:06<00:00, 16.31it/s]\n"
     ]
    },
    {
     "name": "stdout",
     "output_type": "stream",
     "text": [
      "log_loss_g = 3.2811485653629107 , log_loss_d = 0.30576321843783466\n"
     ]
    },
    {
     "name": "stderr",
     "output_type": "stream",
     "text": [
      "100% 98/98 [00:06<00:00, 16.32it/s]\n"
     ]
    },
    {
     "name": "stdout",
     "output_type": "stream",
     "text": [
      "log_loss_g = 2.9356567075057907 , log_loss_d = 0.5017614169236349\n"
     ]
    },
    {
     "name": "stderr",
     "output_type": "stream",
     "text": [
      "100% 98/98 [00:05<00:00, 16.39it/s]\n"
     ]
    },
    {
     "name": "stdout",
     "output_type": "stream",
     "text": [
      "log_loss_g = 2.725112241597808 , log_loss_d = 0.5100683319021244\n"
     ]
    },
    {
     "name": "stderr",
     "output_type": "stream",
     "text": [
      "100% 98/98 [00:05<00:00, 16.43it/s]\n"
     ]
    },
    {
     "name": "stdout",
     "output_type": "stream",
     "text": [
      "log_loss_g = 2.8992931502205983 , log_loss_d = 0.2241533336666774\n"
     ]
    },
    {
     "name": "stderr",
     "output_type": "stream",
     "text": [
      "100% 98/98 [00:05<00:00, 16.42it/s]\n"
     ]
    },
    {
     "name": "stdout",
     "output_type": "stream",
     "text": [
      "log_loss_g = 3.1290613455431804 , log_loss_d = 0.22907564545772513\n"
     ]
    },
    {
     "name": "stderr",
     "output_type": "stream",
     "text": [
      "100% 98/98 [00:05<00:00, 16.37it/s]\n"
     ]
    },
    {
     "name": "stdout",
     "output_type": "stream",
     "text": [
      "log_loss_g = 2.9722758145356667 , log_loss_d = 0.3615137823686308\n"
     ]
    },
    {
     "name": "stderr",
     "output_type": "stream",
     "text": [
      "100% 98/98 [00:05<00:00, 16.42it/s]\n"
     ]
    },
    {
     "name": "stdout",
     "output_type": "stream",
     "text": [
      "log_loss_g = 3.0579565749788773 , log_loss_d = 0.3906591774097511\n"
     ]
    },
    {
     "name": "stderr",
     "output_type": "stream",
     "text": [
      "100% 98/98 [00:05<00:00, 16.38it/s]\n"
     ]
    },
    {
     "name": "stdout",
     "output_type": "stream",
     "text": [
      "log_loss_g = 3.1672672823983796 , log_loss_d = 0.1665197217798963\n"
     ]
    },
    {
     "name": "stderr",
     "output_type": "stream",
     "text": [
      "100% 98/98 [00:05<00:00, 16.51it/s]\n"
     ]
    },
    {
     "name": "stdout",
     "output_type": "stream",
     "text": [
      "log_loss_g = 2.7161020212331595 , log_loss_d = 0.7703797611198864\n"
     ]
    },
    {
     "name": "stderr",
     "output_type": "stream",
     "text": [
      "100% 98/98 [00:05<00:00, 16.44it/s]\n"
     ]
    },
    {
     "name": "stdout",
     "output_type": "stream",
     "text": [
      "log_loss_g = 1.6589010138900913 , log_loss_d = 0.923783461658322\n"
     ]
    },
    {
     "name": "stderr",
     "output_type": "stream",
     "text": [
      "100% 98/98 [00:05<00:00, 16.43it/s]\n"
     ]
    },
    {
     "name": "stdout",
     "output_type": "stream",
     "text": [
      "log_loss_g = 3.07731511307006 , log_loss_d = 0.20992397946514646\n"
     ]
    },
    {
     "name": "stderr",
     "output_type": "stream",
     "text": [
      "100% 98/98 [00:06<00:00, 16.33it/s]\n"
     ]
    },
    {
     "name": "stdout",
     "output_type": "stream",
     "text": [
      "log_loss_g = 3.0727871656417847 , log_loss_d = 0.2220536860808426\n"
     ]
    },
    {
     "name": "stderr",
     "output_type": "stream",
     "text": [
      "100% 98/98 [00:05<00:00, 16.43it/s]\n"
     ]
    },
    {
     "name": "stdout",
     "output_type": "stream",
     "text": [
      "log_loss_g = 3.2067854468311583 , log_loss_d = 0.251655234784192\n"
     ]
    },
    {
     "name": "stderr",
     "output_type": "stream",
     "text": [
      "100% 98/98 [00:05<00:00, 16.60it/s]\n"
     ]
    },
    {
     "name": "stdout",
     "output_type": "stream",
     "text": [
      "log_loss_g = 2.985487042184995 , log_loss_d = 0.35806931992422564\n"
     ]
    },
    {
     "name": "stderr",
     "output_type": "stream",
     "text": [
      "100% 98/98 [00:05<00:00, 16.58it/s]\n"
     ]
    },
    {
     "name": "stdout",
     "output_type": "stream",
     "text": [
      "log_loss_g = 3.165044035230364 , log_loss_d = 0.2879471425347182\n"
     ]
    },
    {
     "name": "stderr",
     "output_type": "stream",
     "text": [
      "100% 98/98 [00:05<00:00, 16.46it/s]\n"
     ]
    },
    {
     "name": "stdout",
     "output_type": "stream",
     "text": [
      "log_loss_g = 3.2323514210934543 , log_loss_d = 0.12446795145467836\n"
     ]
    },
    {
     "name": "stderr",
     "output_type": "stream",
     "text": [
      "100% 98/98 [00:05<00:00, 16.46it/s]\n"
     ]
    },
    {
     "name": "stdout",
     "output_type": "stream",
     "text": [
      "log_loss_g = 3.243349574050125 , log_loss_d = 0.2064990268602055\n"
     ]
    },
    {
     "name": "stderr",
     "output_type": "stream",
     "text": [
      "100% 98/98 [00:05<00:00, 16.51it/s]\n"
     ]
    },
    {
     "name": "stdout",
     "output_type": "stream",
     "text": [
      "log_loss_g = 3.3724034246133296 , log_loss_d = 0.12441327764975782\n"
     ]
    },
    {
     "name": "stderr",
     "output_type": "stream",
     "text": [
      "100% 98/98 [00:05<00:00, 16.65it/s]\n"
     ]
    },
    {
     "name": "stdout",
     "output_type": "stream",
     "text": [
      "log_loss_g = 2.975732981246345 , log_loss_d = 0.4823491277211175\n"
     ]
    },
    {
     "name": "stderr",
     "output_type": "stream",
     "text": [
      "100% 98/98 [00:05<00:00, 16.45it/s]\n"
     ]
    },
    {
     "name": "stdout",
     "output_type": "stream",
     "text": [
      "log_loss_g = 3.21781004205042 , log_loss_d = 0.14465969591876682\n"
     ]
    },
    {
     "name": "stderr",
     "output_type": "stream",
     "text": [
      "100% 98/98 [00:05<00:00, 16.59it/s]\n"
     ]
    },
    {
     "name": "stdout",
     "output_type": "stream",
     "text": [
      "log_loss_g = 2.8480984231799233 , log_loss_d = 0.5415922444009659\n"
     ]
    },
    {
     "name": "stderr",
     "output_type": "stream",
     "text": [
      "100% 98/98 [00:05<00:00, 16.49it/s]\n"
     ]
    },
    {
     "name": "stdout",
     "output_type": "stream",
     "text": [
      "log_loss_g = 2.485970225261182 , log_loss_d = 0.7266882826783219\n"
     ]
    },
    {
     "name": "stderr",
     "output_type": "stream",
     "text": [
      "100% 98/98 [00:05<00:00, 16.43it/s]\n"
     ]
    },
    {
     "name": "stdout",
     "output_type": "stream",
     "text": [
      "log_loss_g = 3.056756012293757 , log_loss_d = 0.24858926860045413\n"
     ]
    },
    {
     "name": "stderr",
     "output_type": "stream",
     "text": [
      "100% 98/98 [00:05<00:00, 16.39it/s]\n"
     ]
    },
    {
     "name": "stdout",
     "output_type": "stream",
     "text": [
      "log_loss_g = 3.254481362901172 , log_loss_d = 0.24752707243421856\n"
     ]
    },
    {
     "name": "stderr",
     "output_type": "stream",
     "text": [
      "100% 98/98 [00:06<00:00, 16.24it/s]\n"
     ]
    },
    {
     "name": "stdout",
     "output_type": "stream",
     "text": [
      "log_loss_g = 2.975887469643233 , log_loss_d = 0.2880966583913078\n"
     ]
    },
    {
     "name": "stderr",
     "output_type": "stream",
     "text": [
      "100% 98/98 [00:06<00:00, 15.96it/s]\n"
     ]
    },
    {
     "name": "stdout",
     "output_type": "stream",
     "text": [
      "log_loss_g = 3.153118479616788 , log_loss_d = 0.24429921106416352\n"
     ]
    },
    {
     "name": "stderr",
     "output_type": "stream",
     "text": [
      "100% 98/98 [00:06<00:00, 16.20it/s]\n"
     ]
    },
    {
     "name": "stdout",
     "output_type": "stream",
     "text": [
      "log_loss_g = 3.286571130460622 , log_loss_d = 0.24692797235080174\n"
     ]
    },
    {
     "name": "stderr",
     "output_type": "stream",
     "text": [
      "100% 98/98 [00:05<00:00, 16.39it/s]\n"
     ]
    },
    {
     "name": "stdout",
     "output_type": "stream",
     "text": [
      "log_loss_g = 3.166970676305343 , log_loss_d = 0.16489841849828252\n"
     ]
    },
    {
     "name": "stderr",
     "output_type": "stream",
     "text": [
      "100% 98/98 [00:05<00:00, 16.35it/s]\n"
     ]
    },
    {
     "name": "stdout",
     "output_type": "stream",
     "text": [
      "log_loss_g = 2.943508955631025 , log_loss_d = 0.43701984113728515\n"
     ]
    },
    {
     "name": "stderr",
     "output_type": "stream",
     "text": [
      "100% 98/98 [00:06<00:00, 16.33it/s]\n"
     ]
    },
    {
     "name": "stdout",
     "output_type": "stream",
     "text": [
      "log_loss_g = 3.212547631896272 , log_loss_d = 0.1679458418975071\n"
     ]
    },
    {
     "name": "stderr",
     "output_type": "stream",
     "text": [
      "100% 98/98 [00:05<00:00, 16.40it/s]\n"
     ]
    },
    {
     "name": "stdout",
     "output_type": "stream",
     "text": [
      "log_loss_g = 3.2211508375345446 , log_loss_d = 0.3056203257292509\n"
     ]
    },
    {
     "name": "stderr",
     "output_type": "stream",
     "text": [
      "100% 98/98 [00:05<00:00, 16.34it/s]\n"
     ]
    },
    {
     "name": "stdout",
     "output_type": "stream",
     "text": [
      "log_loss_g = 3.1350579410791397 , log_loss_d = 0.20379936554450162\n"
     ]
    },
    {
     "name": "stderr",
     "output_type": "stream",
     "text": [
      "100% 98/98 [00:05<00:00, 16.34it/s]\n"
     ]
    },
    {
     "name": "stdout",
     "output_type": "stream",
     "text": [
      "log_loss_g = 2.9845298400947025 , log_loss_d = 0.4639975420978604\n"
     ]
    },
    {
     "name": "stderr",
     "output_type": "stream",
     "text": [
      "100% 98/98 [00:06<00:00, 16.31it/s]\n"
     ]
    },
    {
     "name": "stdout",
     "output_type": "stream",
     "text": [
      "log_loss_g = 3.023403101125542 , log_loss_d = 0.33004281945450575\n"
     ]
    },
    {
     "name": "stderr",
     "output_type": "stream",
     "text": [
      "100% 98/98 [00:05<00:00, 16.43it/s]"
     ]
    },
    {
     "name": "stdout",
     "output_type": "stream",
     "text": [
      "log_loss_g = 3.2743921146100883 , log_loss_d = 0.12197011724418523\n"
     ]
    },
    {
     "name": "stderr",
     "output_type": "stream",
     "text": [
      "\n"
     ]
    }
   ],
   "source": [
    "# 訓練\n",
    "\n",
    "for i in range(300):\n",
    "    log_loss_g, log_loss_d = [], []\n",
    "    for real_img, _ in tqdm(train_loader):\n",
    "        batch_len = len(real_img)\n",
    "\n",
    "        # Gの訓練\n",
    "        # 偽画像を作成\n",
    "        z = torch.randn(batch_len, 128, 1, 1).to(device)\n",
    "        fake_img = model_g(z)\n",
    "\n",
    "        # 偽画像を一時保存\n",
    "        fake_img_tensor = fake_img.detach()\n",
    "\n",
    "        # 偽画像を本物と騙せるようにロスを計算\n",
    "        out = model_d(fake_img)\n",
    "        loss_g = loss_f(out, ones[:batch_len])\n",
    "        log_loss_g.append(loss_g.item())\n",
    "\n",
    "        # 微分計算・重み更新\n",
    "        params_d.zero_grad()\n",
    "        params_g.zero_grad()\n",
    "        loss_g.backward()\n",
    "        params_g.step()\n",
    "\n",
    "        # Discriminatoの訓練\n",
    "        # sample_dataの実画像\n",
    "        real_img = real_img.to(device)\n",
    "        # 実画像を実画像と識別できるようにロスを計算\n",
    "        real_out = model_d(real_img)\n",
    "        loss_d_real = loss_f(real_out, ones[:batch_len])\n",
    "\n",
    "        # 偽の画像の偽と識別できるようにロスを計算\n",
    "        fake_out = model_d(fake_img_tensor)\n",
    "        loss_d_fake = loss_f(fake_out, zeros[:batch_len])\n",
    "\n",
    "        # 実画像と偽画像のロスを合計\n",
    "        loss_d = loss_d_real + loss_d_fake\n",
    "        log_loss_d.append(loss_d.item())\n",
    "\n",
    "        # 微分計算・重み更新\n",
    "        params_d.zero_grad()\n",
    "        params_g.zero_grad()\n",
    "        loss_d.backward()\n",
    "        params_d.step()\n",
    "\n",
    "    result[\"log_loss_g\"].append(statistics.mean(log_loss_g))\n",
    "    result[\"log_loss_d\"].append(statistics.mean(log_loss_d))\n",
    "    print(\"log_loss_g =\", result[\"log_loss_g\"][-1], \", log_loss_d =\", result[\"log_loss_d\"][-1])\n",
    "\n",
    "    # 画像を保存\n",
    "    if not os.path.exists(\"cifar_generated\"):\n",
    "        os.mkdir(\"cifar_generated\")\n",
    "    torchvision.utils.save_image(fake_img_tensor[:min(batch_len, 100)],\n",
    "                            f\"cifar_generated/epoch_{i:03}.png\")\n",
    "# ログの保存\n",
    "with open(\"cifar_generated/logs.pkl\", \"wb\") as fp:\n",
    "    pickle.dump(result, fp)"
   ]
  },
  {
   "cell_type": "code",
   "execution_count": 34,
   "id": "4ef7d20b-c65e-45d3-9c83-98e5944fe08a",
   "metadata": {
    "scrolled": true
   },
   "outputs": [
    {
     "data": {
      "text/plain": [
       "{'log_loss_g': [0.8045306649743295,\n",
       "  0.7755461779175973,\n",
       "  0.7773324062629622,\n",
       "  0.7894815522797254,\n",
       "  0.822343492994503,\n",
       "  0.84222924648499,\n",
       "  0.8679401448794773,\n",
       "  0.8776060148161284,\n",
       "  0.9042877944148316,\n",
       "  0.9403201560584866,\n",
       "  0.9511809409881125,\n",
       "  0.9735024613993508,\n",
       "  0.9643630798982115,\n",
       "  1.0324124401929426,\n",
       "  1.0496293215119108,\n",
       "  1.0688470589871308,\n",
       "  1.0975324031041593,\n",
       "  1.1147272167157154,\n",
       "  1.137584031236415,\n",
       "  1.1795576196544024,\n",
       "  1.1916232759855232,\n",
       "  1.1993953762005787,\n",
       "  1.25194954568026,\n",
       "  1.226149313303889,\n",
       "  1.268004023907136,\n",
       "  1.2972945747326832,\n",
       "  1.318202291216169,\n",
       "  1.3406694671329187,\n",
       "  1.3401304684123214,\n",
       "  1.3606973637123496,\n",
       "  1.3793445259940869,\n",
       "  1.3925450900379492,\n",
       "  1.3922412468462575,\n",
       "  1.429297294543714,\n",
       "  1.4482128462012933,\n",
       "  1.4608189305480646,\n",
       "  1.4776795308808892,\n",
       "  1.5540771536072906,\n",
       "  1.5121714649151783,\n",
       "  1.5416358466051063,\n",
       "  1.596781697200269,\n",
       "  1.5874838068777202,\n",
       "  1.5951927504977401,\n",
       "  1.5863909143574384,\n",
       "  1.623551110223848,\n",
       "  1.6425950472452202,\n",
       "  1.6677856384491434,\n",
       "  1.669810947106809,\n",
       "  1.6781985370480283,\n",
       "  1.6919719893105176,\n",
       "  1.6966327416653535,\n",
       "  1.7452499477230772,\n",
       "  1.7277294756198416,\n",
       "  1.7311685650932545,\n",
       "  1.7762030831405096,\n",
       "  1.8069428284557498,\n",
       "  1.7850017783289054,\n",
       "  1.8387393245891648,\n",
       "  1.848185556275504,\n",
       "  1.797019139844544,\n",
       "  1.9540421920163291,\n",
       "  1.8309079250510858,\n",
       "  1.9136850438555892,\n",
       "  1.9087058573353046,\n",
       "  1.9108253802571977,\n",
       "  1.9173486591601858,\n",
       "  1.9615100144731754,\n",
       "  1.9140056855216319,\n",
       "  2.0124576468856965,\n",
       "  1.9698794961583859,\n",
       "  2.036167235398779,\n",
       "  1.9874254276557846,\n",
       "  2.0255483790319793,\n",
       "  1.9607945774890938,\n",
       "  2.0351142858972353,\n",
       "  2.041543248356605,\n",
       "  2.038920058887832,\n",
       "  2.094950231970573,\n",
       "  2.030793217980132,\n",
       "  2.0802283411731524,\n",
       "  2.1475401824834397,\n",
       "  2.136647024629067,\n",
       "  2.143106595594056,\n",
       "  2.130641819871202,\n",
       "  2.1458919626109454,\n",
       "  2.09319783564733,\n",
       "  2.1298226233647792,\n",
       "  2.208192606361545,\n",
       "  2.1835464719606907,\n",
       "  2.1675325778065897,\n",
       "  2.2446585629059346,\n",
       "  1.8686704298063201,\n",
       "  2.1605181073655886,\n",
       "  2.074871062624211,\n",
       "  2.220650551574571,\n",
       "  2.261597193017298,\n",
       "  2.26358006924999,\n",
       "  2.305617570877075,\n",
       "  2.1569206860600687,\n",
       "  2.269594565338018,\n",
       "  2.1131970295492484,\n",
       "  2.3491727989547107,\n",
       "  2.290257397658971,\n",
       "  2.3471827625620123,\n",
       "  2.249362606479197,\n",
       "  2.3197342732122967,\n",
       "  2.2766145096749675,\n",
       "  2.507531227505937,\n",
       "  2.153215779637804,\n",
       "  2.3635281111512865,\n",
       "  2.455393841072005,\n",
       "  2.3250179141759872,\n",
       "  2.322914722318552,\n",
       "  2.345810612245482,\n",
       "  2.412263396443153,\n",
       "  2.283475743416621,\n",
       "  2.4013148179011687,\n",
       "  2.5275083999244536,\n",
       "  2.308030843734741,\n",
       "  2.3930437187759246,\n",
       "  2.359378812264423,\n",
       "  2.3961330436322155,\n",
       "  2.537597184278527,\n",
       "  2.4753966440959854,\n",
       "  2.3699768593116683,\n",
       "  2.513664854120235,\n",
       "  2.29153544987951,\n",
       "  2.636894400022468,\n",
       "  2.348857046998277,\n",
       "  2.3206017388373006,\n",
       "  2.5487299105342553,\n",
       "  2.641716688263173,\n",
       "  2.295821603311568,\n",
       "  2.4647910245219053,\n",
       "  2.3794951904184964,\n",
       "  2.605512241927945,\n",
       "  2.464492785383244,\n",
       "  2.3381930443705343,\n",
       "  2.655557106952278,\n",
       "  2.4595452722694193,\n",
       "  2.5011770615772324,\n",
       "  2.6059000011609523,\n",
       "  2.517522580465492,\n",
       "  2.664391413635137,\n",
       "  2.522067677305669,\n",
       "  2.736762843569931,\n",
       "  2.5268060875182248,\n",
       "  2.4876657791283665,\n",
       "  2.649441933069302,\n",
       "  2.6546144074931437,\n",
       "  2.567056562219347,\n",
       "  2.44458253468786,\n",
       "  2.746917236824425,\n",
       "  2.6659887268835183,\n",
       "  2.7342271512868455,\n",
       "  2.6270364425620256,\n",
       "  2.4676677198434365,\n",
       "  2.6732851260778854,\n",
       "  2.858333655461973,\n",
       "  2.4819445430624243,\n",
       "  2.871507953624336,\n",
       "  2.5075535847216237,\n",
       "  2.776983403429693,\n",
       "  2.841037852423532,\n",
       "  2.4987810731542353,\n",
       "  2.80239067150622,\n",
       "  2.8279380080651264,\n",
       "  2.5580902339852587,\n",
       "  2.872988001424439,\n",
       "  2.6908766311042163,\n",
       "  2.3761858365365436,\n",
       "  2.71001474498486,\n",
       "  2.634939108271988,\n",
       "  2.838648245650895,\n",
       "  2.7263276497928466,\n",
       "  2.7392826749353993,\n",
       "  2.7628219002971846,\n",
       "  2.686958204118573,\n",
       "  2.8652099559501725,\n",
       "  2.9727026345778484,\n",
       "  2.760598456981231,\n",
       "  2.76135231828203,\n",
       "  2.661201639519054,\n",
       "  2.957781515559372,\n",
       "  2.6379380379708444,\n",
       "  2.8226740877239074,\n",
       "  3.019110695439942,\n",
       "  2.697140999594513,\n",
       "  2.82706206063835,\n",
       "  2.7408116338204365,\n",
       "  2.8749001679980024,\n",
       "  3.0056101801444073,\n",
       "  2.707285560515462,\n",
       "  3.0117022711403516,\n",
       "  2.901269438315411,\n",
       "  2.709076851302264,\n",
       "  2.712736959664189,\n",
       "  3.097456641343175,\n",
       "  2.7871446864945546,\n",
       "  2.5876326463660417,\n",
       "  3.0187545370082467,\n",
       "  2.9142169411845353,\n",
       "  2.837375925055572,\n",
       "  2.803439678282154,\n",
       "  3.177020253575578,\n",
       "  2.7303555574344127,\n",
       "  2.9485201981602884,\n",
       "  3.065095823638293,\n",
       "  2.630367872362234,\n",
       "  3.0838602428533592,\n",
       "  2.800178682773697,\n",
       "  3.2116754736219133,\n",
       "  2.9403143561616236,\n",
       "  3.1862154651661307,\n",
       "  2.6260953136548704,\n",
       "  2.905227132597748,\n",
       "  3.0057985686830113,\n",
       "  3.087279358688666,\n",
       "  3.0695862399072062,\n",
       "  3.087985259233689,\n",
       "  2.8038344231187082,\n",
       "  2.865536943990357,\n",
       "  3.1630388644276834,\n",
       "  2.8029275639932982,\n",
       "  3.059297862709785,\n",
       "  2.966852076655748,\n",
       "  3.187588104179927,\n",
       "  3.017447168273585,\n",
       "  2.8373897171826385,\n",
       "  2.9418476625364653,\n",
       "  3.0584952937705174,\n",
       "  2.9462894891597786,\n",
       "  3.0494580354009355,\n",
       "  3.1160773878194847,\n",
       "  2.8851468912800966,\n",
       "  2.993084036650098,\n",
       "  2.8143975026145274,\n",
       "  2.9982130754054808,\n",
       "  3.1807530242569593,\n",
       "  2.771014611331784,\n",
       "  3.1797708929801476,\n",
       "  3.2453035450711543,\n",
       "  3.268040653394193,\n",
       "  2.9615517103550384,\n",
       "  3.3169110672814504,\n",
       "  3.1766708847515437,\n",
       "  2.9609190069747213,\n",
       "  3.024340316045041,\n",
       "  3.121847095538159,\n",
       "  2.9857328509797854,\n",
       "  3.0545405100802987,\n",
       "  2.993030807953708,\n",
       "  3.3402977841241017,\n",
       "  1.9087449674095427,\n",
       "  2.8380141404210306,\n",
       "  3.288934909567541,\n",
       "  3.3260424362153422,\n",
       "  3.107832688306059,\n",
       "  3.0116146973201205,\n",
       "  3.1467876659364116,\n",
       "  2.944787741467661,\n",
       "  2.8977533843444316,\n",
       "  3.292984436969368,\n",
       "  3.328488051891327,\n",
       "  3.2634871407431,\n",
       "  3.2811485653629107,\n",
       "  2.9356567075057907,\n",
       "  2.725112241597808,\n",
       "  2.8992931502205983,\n",
       "  3.1290613455431804,\n",
       "  2.9722758145356667,\n",
       "  3.0579565749788773,\n",
       "  3.1672672823983796,\n",
       "  2.7161020212331595,\n",
       "  1.6589010138900913,\n",
       "  3.07731511307006,\n",
       "  3.0727871656417847,\n",
       "  3.2067854468311583,\n",
       "  2.985487042184995,\n",
       "  3.165044035230364,\n",
       "  3.2323514210934543,\n",
       "  3.243349574050125,\n",
       "  3.3724034246133296,\n",
       "  2.975732981246345,\n",
       "  3.21781004205042,\n",
       "  2.8480984231799233,\n",
       "  2.485970225261182,\n",
       "  3.056756012293757,\n",
       "  3.254481362901172,\n",
       "  2.975887469643233,\n",
       "  3.153118479616788,\n",
       "  3.286571130460622,\n",
       "  3.166970676305343,\n",
       "  2.943508955631025,\n",
       "  3.212547631896272,\n",
       "  3.2211508375345446,\n",
       "  3.1350579410791397,\n",
       "  2.9845298400947025,\n",
       "  3.023403101125542,\n",
       "  3.2743921146100883],\n",
       " 'log_loss_d': [1.1647337212854503,\n",
       "  1.2587564952519474,\n",
       "  1.267921537769084,\n",
       "  1.2441255717861408,\n",
       "  1.2238664353380397,\n",
       "  1.1974877897573977,\n",
       "  1.1572548187508875,\n",
       "  1.15736174522614,\n",
       "  1.1217873978371522,\n",
       "  1.0691549911790965,\n",
       "  1.1077496713521529,\n",
       "  1.0523050050346219,\n",
       "  1.0573263320387627,\n",
       "  1.0190226180212838,\n",
       "  0.9790526366963679,\n",
       "  0.991948023742559,\n",
       "  0.960242540252452,\n",
       "  0.9575826318896546,\n",
       "  0.9202803172627274,\n",
       "  0.8902270976377993,\n",
       "  0.8576886507929588,\n",
       "  0.8880633942934931,\n",
       "  0.823525245092353,\n",
       "  0.8623531235724079,\n",
       "  0.80232321364539,\n",
       "  0.8077530514220802,\n",
       "  0.782510439048008,\n",
       "  0.7833009502109216,\n",
       "  0.7754367827152719,\n",
       "  0.747697157215099,\n",
       "  0.7613111935099777,\n",
       "  0.7566762761193879,\n",
       "  0.7289156792115192,\n",
       "  0.7435369619301387,\n",
       "  0.7299941428461854,\n",
       "  0.7026504743464139,\n",
       "  0.7173871626051105,\n",
       "  0.6522243767976761,\n",
       "  0.7008427311571277,\n",
       "  0.6672967666265915,\n",
       "  0.6202558452377513,\n",
       "  0.6804261511685897,\n",
       "  0.6287694959616175,\n",
       "  0.7096337964948343,\n",
       "  0.6095132809512469,\n",
       "  0.640270821294006,\n",
       "  0.5888257789976743,\n",
       "  0.5978161683496164,\n",
       "  0.6234318603362355,\n",
       "  0.6354181346844654,\n",
       "  0.5858151556885972,\n",
       "  0.5754834833193798,\n",
       "  0.6364686400914679,\n",
       "  0.5483917524011768,\n",
       "  0.5750339709374369,\n",
       "  0.5208175635459472,\n",
       "  0.5890220829418727,\n",
       "  0.5415864013591591,\n",
       "  0.5836421900561878,\n",
       "  0.5258188773782886,\n",
       "  0.4365683126510406,\n",
       "  0.6229320595763168,\n",
       "  0.45767087687034996,\n",
       "  0.5457440655754537,\n",
       "  0.5385368449651465,\n",
       "  0.48314231542908415,\n",
       "  0.5182858863655402,\n",
       "  0.5861293389176836,\n",
       "  0.42898011861407026,\n",
       "  0.521092849574527,\n",
       "  0.4489342065490022,\n",
       "  0.5392057555062431,\n",
       "  0.4745946972041714,\n",
       "  0.5900330908444463,\n",
       "  0.4900100406031219,\n",
       "  0.4444677066438052,\n",
       "  0.47397227539699904,\n",
       "  0.4308724146412343,\n",
       "  0.558070431254348,\n",
       "  0.4794360668379433,\n",
       "  0.40700939997118346,\n",
       "  0.46998848925743786,\n",
       "  0.40894758442834933,\n",
       "  0.4645431878007188,\n",
       "  0.4061963936808158,\n",
       "  0.5193356347023225,\n",
       "  0.48939000267763527,\n",
       "  0.3955038714469696,\n",
       "  0.4152426304561751,\n",
       "  0.42033691172088894,\n",
       "  0.39143609308770727,\n",
       "  0.7713395934932086,\n",
       "  0.4541266910275634,\n",
       "  0.5293917024926263,\n",
       "  0.4222787635362878,\n",
       "  0.3934164798381377,\n",
       "  0.3895196574074881,\n",
       "  0.3366574620713993,\n",
       "  0.5529668451267846,\n",
       "  0.37444274157893903,\n",
       "  0.5527377095149488,\n",
       "  0.3375878364455943,\n",
       "  0.41862176252262934,\n",
       "  0.3889949799192195,\n",
       "  0.4381633712625017,\n",
       "  0.3746482139947463,\n",
       "  0.44555329820331263,\n",
       "  0.27886037863030727,\n",
       "  0.5809846555396002,\n",
       "  0.35946063651722304,\n",
       "  0.29356740110990953,\n",
       "  0.454647887194035,\n",
       "  0.4074269606142628,\n",
       "  0.45808685130002547,\n",
       "  0.3207149360404939,\n",
       "  0.5272459956456204,\n",
       "  0.35831879155368224,\n",
       "  0.27575353183308426,\n",
       "  0.45154697516438913,\n",
       "  0.5407798836121753,\n",
       "  0.3496121030528935,\n",
       "  0.41073813912819845,\n",
       "  0.2723757467251651,\n",
       "  0.353693635944201,\n",
       "  0.42026333921417897,\n",
       "  0.36411547288298607,\n",
       "  0.5343112614081831,\n",
       "  0.23070445086578933,\n",
       "  0.6318051174130975,\n",
       "  0.3806583061814308,\n",
       "  0.2956886145153216,\n",
       "  0.2580887783242732,\n",
       "  0.5926126174780787,\n",
       "  0.39492522134464614,\n",
       "  0.4199837154271651,\n",
       "  0.26302642991044084,\n",
       "  0.4140383986642166,\n",
       "  0.5304293901640542,\n",
       "  0.2276465743019873,\n",
       "  0.5484344988149039,\n",
       "  0.3048856828589829,\n",
       "  0.33375690117174267,\n",
       "  0.39398259319821183,\n",
       "  0.29098292288123345,\n",
       "  0.38881535706471426,\n",
       "  0.24377346510181622,\n",
       "  0.45461821730951874,\n",
       "  0.4130809419617361,\n",
       "  0.3299060605314313,\n",
       "  0.356284209584095,\n",
       "  0.3539788768607743,\n",
       "  0.459849906515102,\n",
       "  0.22225198947957583,\n",
       "  0.3490581114073189,\n",
       "  0.2511444998791023,\n",
       "  0.4302066014129288,\n",
       "  0.3626441633214756,\n",
       "  0.3225977978840166,\n",
       "  0.20665016793170754,\n",
       "  0.4712985962325213,\n",
       "  0.19731327708886595,\n",
       "  0.5225192351760913,\n",
       "  0.23030508248781673,\n",
       "  0.22393638686257966,\n",
       "  0.5283600098776574,\n",
       "  0.21831376835399743,\n",
       "  0.27173938708645956,\n",
       "  0.41471387027781836,\n",
       "  0.1892627617534326,\n",
       "  0.39151223368790683,\n",
       "  0.5583198785933913,\n",
       "  0.35828935366351994,\n",
       "  0.2999550453102102,\n",
       "  0.2586413602895883,\n",
       "  0.39249363526397824,\n",
       "  0.3287596478298002,\n",
       "  0.3535616373149108,\n",
       "  0.34505144902029816,\n",
       "  0.22579563553540075,\n",
       "  0.19539499218214532,\n",
       "  0.41912027604269736,\n",
       "  0.3480945671243327,\n",
       "  0.46040801909201,\n",
       "  0.19084543392670397,\n",
       "  0.44404955489598974,\n",
       "  0.3104850336605189,\n",
       "  0.1907319158163606,\n",
       "  0.5540814647565082,\n",
       "  0.2243512506235619,\n",
       "  0.392039845868641,\n",
       "  0.33910444051939614,\n",
       "  0.1781592777340996,\n",
       "  0.42908491239864,\n",
       "  0.16939289613189745,\n",
       "  0.3676656037569046,\n",
       "  0.5302675116275039,\n",
       "  0.29509535903225137,\n",
       "  0.157556951958306,\n",
       "  0.43913490712946773,\n",
       "  0.5126151650079659,\n",
       "  0.1636602366913338,\n",
       "  0.358568491110084,\n",
       "  0.34414221468020456,\n",
       "  0.30496111238489343,\n",
       "  0.16125537968259684,\n",
       "  0.47270318880981327,\n",
       "  0.1873219560603706,\n",
       "  0.22046574965423468,\n",
       "  0.47925266258570615,\n",
       "  0.16849679708936993,\n",
       "  0.3627217809612654,\n",
       "  0.12918605723855447,\n",
       "  0.3042905848777416,\n",
       "  0.14920780754515103,\n",
       "  0.6242018365966422,\n",
       "  0.22865179409177935,\n",
       "  0.28430055279512795,\n",
       "  0.2677914384676486,\n",
       "  0.18797090927100912,\n",
       "  0.23606112257254366,\n",
       "  0.4612658366712989,\n",
       "  0.2777752452434934,\n",
       "  0.16270387142288442,\n",
       "  0.4344687916870628,\n",
       "  0.2158350277768106,\n",
       "  0.32124401556746085,\n",
       "  0.18513316562285229,\n",
       "  0.2853846687595455,\n",
       "  0.5173037797212601,\n",
       "  0.1737674410854067,\n",
       "  0.34460325565721306,\n",
       "  0.24817762250194744,\n",
       "  0.2563985187788399,\n",
       "  0.20142171528114347,\n",
       "  0.4350848652574481,\n",
       "  0.29560941708635313,\n",
       "  0.46245977605636024,\n",
       "  0.28596165966318576,\n",
       "  0.1446172942464449,\n",
       "  0.47762365920507177,\n",
       "  0.14091179744169421,\n",
       "  0.20822761013951838,\n",
       "  0.15656890826565878,\n",
       "  0.3696939755155116,\n",
       "  0.11632562356487829,\n",
       "  0.2740352055704107,\n",
       "  0.30311121187191836,\n",
       "  0.4068324006333643,\n",
       "  0.15493076864858063,\n",
       "  0.33981549086011187,\n",
       "  0.3129564606565602,\n",
       "  0.2627148978336125,\n",
       "  0.13695386272608018,\n",
       "  1.1934064820180743,\n",
       "  0.20086231698491136,\n",
       "  0.13774924903955996,\n",
       "  0.15936170237100855,\n",
       "  0.3460810145325198,\n",
       "  0.2719377528647987,\n",
       "  0.2438327433275325,\n",
       "  0.41542500531186866,\n",
       "  0.3615545069760814,\n",
       "  0.15581885664438716,\n",
       "  0.12939323032540934,\n",
       "  0.1901825161232632,\n",
       "  0.30576321843783466,\n",
       "  0.5017614169236349,\n",
       "  0.5100683319021244,\n",
       "  0.2241533336666774,\n",
       "  0.22907564545772513,\n",
       "  0.3615137823686308,\n",
       "  0.3906591774097511,\n",
       "  0.1665197217798963,\n",
       "  0.7703797611198864,\n",
       "  0.923783461658322,\n",
       "  0.20992397946514646,\n",
       "  0.2220536860808426,\n",
       "  0.251655234784192,\n",
       "  0.35806931992422564,\n",
       "  0.2879471425347182,\n",
       "  0.12446795145467836,\n",
       "  0.2064990268602055,\n",
       "  0.12441327764975782,\n",
       "  0.4823491277211175,\n",
       "  0.14465969591876682,\n",
       "  0.5415922444009659,\n",
       "  0.7266882826783219,\n",
       "  0.24858926860045413,\n",
       "  0.24752707243421856,\n",
       "  0.2880966583913078,\n",
       "  0.24429921106416352,\n",
       "  0.24692797235080174,\n",
       "  0.16489841849828252,\n",
       "  0.43701984113728515,\n",
       "  0.1679458418975071,\n",
       "  0.3056203257292509,\n",
       "  0.20379936554450162,\n",
       "  0.4639975420978604,\n",
       "  0.33004281945450575,\n",
       "  0.12197011724418523]}"
      ]
     },
     "execution_count": 34,
     "metadata": {},
     "output_type": "execute_result"
    }
   ],
   "source": [
    " import pandas as pd\n",
    "\n",
    "df = pd.read_pickle(\"cifar_generated/logs.pkl\")\n",
    "df"
   ]
  },
  {
   "cell_type": "code",
   "execution_count": null,
   "id": "cb108671-aeb0-47f2-9c6c-31da39d73ed3",
   "metadata": {},
   "outputs": [],
   "source": []
  }
 ],
 "metadata": {
  "kernelspec": {
   "display_name": "Python 3 (ipykernel)",
   "language": "python",
   "name": "python3"
  },
  "language_info": {
   "codemirror_mode": {
    "name": "ipython",
    "version": 3
   },
   "file_extension": ".py",
   "mimetype": "text/x-python",
   "name": "python",
   "nbconvert_exporter": "python",
   "pygments_lexer": "ipython3",
   "version": "3.9.16"
  }
 },
 "nbformat": 4,
 "nbformat_minor": 5
}
